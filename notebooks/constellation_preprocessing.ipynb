{
 "cells": [
  {
   "cell_type": "code",
   "execution_count": 1,
   "metadata": {},
   "outputs": [],
   "source": [
    "# Library imports\n",
    "import pandas as pd\n",
    "import numpy as np\n",
    "import json"
   ]
  },
  {
   "cell_type": "code",
   "execution_count": 2,
   "metadata": {},
   "outputs": [],
   "source": [
    "# Turn off the SettingWithCopyWarning (do this post-dev only)\n",
    "pd.set_option('mode.chained_assignment', None)"
   ]
  },
  {
   "cell_type": "code",
   "execution_count": 3,
   "metadata": {},
   "outputs": [],
   "source": [
    "# Read the datasets\n",
    "df1 = pd.read_csv('../data/primary_dataset.csv')\n",
    "df2 = pd.read_csv('../data/secondary_dataset.csv')"
   ]
  },
  {
   "cell_type": "markdown",
   "metadata": {},
   "source": [
    "## Primary dataset processing"
   ]
  },
  {
   "cell_type": "code",
   "execution_count": 4,
   "metadata": {},
   "outputs": [
    {
     "data": {
      "text/plain": [
       "Index(['Rank', 'Title', 'Genre', 'Description', 'Director', 'Actors', 'Year',\n",
       "       'Runtime (Minutes)', 'Rating', 'Votes', 'Revenue (Millions)',\n",
       "       'Metascore'],\n",
       "      dtype='object')"
      ]
     },
     "execution_count": 4,
     "metadata": {},
     "output_type": "execute_result"
    }
   ],
   "source": [
    "df1.columns"
   ]
  },
  {
   "cell_type": "code",
   "execution_count": 5,
   "metadata": {},
   "outputs": [],
   "source": [
    "# Convert to a python list\n",
    "df1['Actors List'] = df1.Actors.map(lambda x: [i.strip() for i in x.split(\",\")])\n",
    "# Convert movie titles to lower case (for convenience)\n",
    "df1['Title'] = df1['Title'].map(str.lower)"
   ]
  },
  {
   "cell_type": "code",
   "execution_count": 6,
   "metadata": {},
   "outputs": [
    {
     "data": {
      "text/html": [
       "<div>\n",
       "<style scoped>\n",
       "    .dataframe tbody tr th:only-of-type {\n",
       "        vertical-align: middle;\n",
       "    }\n",
       "\n",
       "    .dataframe tbody tr th {\n",
       "        vertical-align: top;\n",
       "    }\n",
       "\n",
       "    .dataframe thead th {\n",
       "        text-align: right;\n",
       "    }\n",
       "</style>\n",
       "<table border=\"1\" class=\"dataframe\">\n",
       "  <thead>\n",
       "    <tr style=\"text-align: right;\">\n",
       "      <th></th>\n",
       "      <th>title</th>\n",
       "      <th>actors</th>\n",
       "    </tr>\n",
       "  </thead>\n",
       "  <tbody>\n",
       "    <tr>\n",
       "      <th>0</th>\n",
       "      <td>guardians of the galaxy</td>\n",
       "      <td>[Chris Pratt, Vin Diesel, Bradley Cooper, Zoe ...</td>\n",
       "    </tr>\n",
       "    <tr>\n",
       "      <th>1</th>\n",
       "      <td>prometheus</td>\n",
       "      <td>[Noomi Rapace, Logan Marshall-Green, Michael F...</td>\n",
       "    </tr>\n",
       "    <tr>\n",
       "      <th>2</th>\n",
       "      <td>split</td>\n",
       "      <td>[James McAvoy, Anya Taylor-Joy, Haley Lu Richa...</td>\n",
       "    </tr>\n",
       "    <tr>\n",
       "      <th>3</th>\n",
       "      <td>sing</td>\n",
       "      <td>[Matthew McConaughey, Reese Witherspoon, Seth ...</td>\n",
       "    </tr>\n",
       "    <tr>\n",
       "      <th>4</th>\n",
       "      <td>suicide squad</td>\n",
       "      <td>[Will Smith, Jared Leto, Margot Robbie, Viola ...</td>\n",
       "    </tr>\n",
       "  </tbody>\n",
       "</table>\n",
       "</div>"
      ],
      "text/plain": [
       "                     title                                             actors\n",
       "0  guardians of the galaxy  [Chris Pratt, Vin Diesel, Bradley Cooper, Zoe ...\n",
       "1               prometheus  [Noomi Rapace, Logan Marshall-Green, Michael F...\n",
       "2                    split  [James McAvoy, Anya Taylor-Joy, Haley Lu Richa...\n",
       "3                     sing  [Matthew McConaughey, Reese Witherspoon, Seth ...\n",
       "4            suicide squad  [Will Smith, Jared Leto, Margot Robbie, Viola ..."
      ]
     },
     "execution_count": 6,
     "metadata": {},
     "output_type": "execute_result"
    }
   ],
   "source": [
    "# Keep only relevant columns (for now - add more fields for extra filter features)\n",
    "df1_relevant = df1[['Title', 'Actors List']]\n",
    "# Standardize column names\n",
    "df1_relevant.columns = ['title', 'actors']\n",
    "df1_relevant.head()"
   ]
  },
  {
   "cell_type": "markdown",
   "metadata": {},
   "source": [
    "## Secondary dataset processing"
   ]
  },
  {
   "cell_type": "code",
   "execution_count": 7,
   "metadata": {},
   "outputs": [
    {
     "data": {
      "text/plain": [
       "Index(['color', 'director_name', 'num_critic_for_reviews', 'duration',\n",
       "       'director_facebook_likes', 'actor_3_facebook_likes', 'actor_2_name',\n",
       "       'actor_1_facebook_likes', 'gross', 'genres', 'actor_1_name',\n",
       "       'movie_title', 'num_voted_users', 'cast_total_facebook_likes',\n",
       "       'actor_3_name', 'facenumber_in_poster', 'plot_keywords',\n",
       "       'movie_imdb_link', 'num_user_for_reviews', 'language', 'country',\n",
       "       'content_rating', 'budget', 'title_year', 'actor_2_facebook_likes',\n",
       "       'imdb_score', 'aspect_ratio', 'movie_facebook_likes'],\n",
       "      dtype='object')"
      ]
     },
     "execution_count": 7,
     "metadata": {},
     "output_type": "execute_result"
    }
   ],
   "source": [
    "df2.columns"
   ]
  },
  {
   "cell_type": "code",
   "execution_count": 8,
   "metadata": {},
   "outputs": [],
   "source": [
    "# We have the \"\\xa0\" character at the end ofthe titles: we want to get rid of it\n",
    "df2.movie_title = df2.movie_title.replace(u'\\xa0', u'', regex=True)\n",
    "# Combine columns and convert to python list\n",
    "df2['actors_list'] = df2[['actor_1_name', 'actor_2_name', 'actor_3_name']].apply(lambda x: ','.join(x.dropna()), axis=1)\n",
    "df2['actors_list'] = df2['actors_list'].map(lambda x: [i.strip() for i in x.split(\",\")])\n",
    "# Convert movie titles to lower case (for convenience)\n",
    "df2['movie_title'] = df2['movie_title'].map(str.lower)\n",
    "# Drop rows with NaN values\n",
    "df2 = df2.dropna()"
   ]
  },
  {
   "cell_type": "code",
   "execution_count": 9,
   "metadata": {},
   "outputs": [
    {
     "data": {
      "text/html": [
       "<div>\n",
       "<style scoped>\n",
       "    .dataframe tbody tr th:only-of-type {\n",
       "        vertical-align: middle;\n",
       "    }\n",
       "\n",
       "    .dataframe tbody tr th {\n",
       "        vertical-align: top;\n",
       "    }\n",
       "\n",
       "    .dataframe thead th {\n",
       "        text-align: right;\n",
       "    }\n",
       "</style>\n",
       "<table border=\"1\" class=\"dataframe\">\n",
       "  <thead>\n",
       "    <tr style=\"text-align: right;\">\n",
       "      <th></th>\n",
       "      <th>title</th>\n",
       "      <th>director</th>\n",
       "      <th>actors</th>\n",
       "      <th>imdb_rating</th>\n",
       "      <th>revenue</th>\n",
       "      <th>budget</th>\n",
       "    </tr>\n",
       "  </thead>\n",
       "  <tbody>\n",
       "    <tr>\n",
       "      <th>0</th>\n",
       "      <td>avatar</td>\n",
       "      <td>James Cameron</td>\n",
       "      <td>[CCH Pounder, Joel David Moore, Wes Studi]</td>\n",
       "      <td>7.9</td>\n",
       "      <td>760505847.0</td>\n",
       "      <td>237000000.0</td>\n",
       "    </tr>\n",
       "    <tr>\n",
       "      <th>1</th>\n",
       "      <td>pirates of the caribbean: at world's end</td>\n",
       "      <td>Gore Verbinski</td>\n",
       "      <td>[Johnny Depp, Orlando Bloom, Jack Davenport]</td>\n",
       "      <td>7.1</td>\n",
       "      <td>309404152.0</td>\n",
       "      <td>300000000.0</td>\n",
       "    </tr>\n",
       "    <tr>\n",
       "      <th>2</th>\n",
       "      <td>spectre</td>\n",
       "      <td>Sam Mendes</td>\n",
       "      <td>[Christoph Waltz, Rory Kinnear, Stephanie Sigman]</td>\n",
       "      <td>6.8</td>\n",
       "      <td>200074175.0</td>\n",
       "      <td>245000000.0</td>\n",
       "    </tr>\n",
       "    <tr>\n",
       "      <th>3</th>\n",
       "      <td>the dark knight rises</td>\n",
       "      <td>Christopher Nolan</td>\n",
       "      <td>[Tom Hardy, Christian Bale, Joseph Gordon-Levitt]</td>\n",
       "      <td>8.5</td>\n",
       "      <td>448130642.0</td>\n",
       "      <td>250000000.0</td>\n",
       "    </tr>\n",
       "    <tr>\n",
       "      <th>5</th>\n",
       "      <td>john carter</td>\n",
       "      <td>Andrew Stanton</td>\n",
       "      <td>[Daryl Sabara, Samantha Morton, Polly Walker]</td>\n",
       "      <td>6.6</td>\n",
       "      <td>73058679.0</td>\n",
       "      <td>263700000.0</td>\n",
       "    </tr>\n",
       "  </tbody>\n",
       "</table>\n",
       "</div>"
      ],
      "text/plain": [
       "                                      title           director  \\\n",
       "0                                    avatar      James Cameron   \n",
       "1  pirates of the caribbean: at world's end     Gore Verbinski   \n",
       "2                                   spectre         Sam Mendes   \n",
       "3                     the dark knight rises  Christopher Nolan   \n",
       "5                               john carter     Andrew Stanton   \n",
       "\n",
       "                                              actors  imdb_rating  \\\n",
       "0         [CCH Pounder, Joel David Moore, Wes Studi]          7.9   \n",
       "1       [Johnny Depp, Orlando Bloom, Jack Davenport]          7.1   \n",
       "2  [Christoph Waltz, Rory Kinnear, Stephanie Sigman]          6.8   \n",
       "3  [Tom Hardy, Christian Bale, Joseph Gordon-Levitt]          8.5   \n",
       "5      [Daryl Sabara, Samantha Morton, Polly Walker]          6.6   \n",
       "\n",
       "       revenue       budget  \n",
       "0  760505847.0  237000000.0  \n",
       "1  309404152.0  300000000.0  \n",
       "2  200074175.0  245000000.0  \n",
       "3  448130642.0  250000000.0  \n",
       "5   73058679.0  263700000.0  "
      ]
     },
     "execution_count": 9,
     "metadata": {},
     "output_type": "execute_result"
    }
   ],
   "source": [
    "# Keep only relevant columns (for now - add more fields for extra filter features)\n",
    "df2_relevant = df2[['movie_title', 'director_name', 'actors_list', 'imdb_score', 'gross', 'budget']]\n",
    "# Standardize column names\n",
    "df2_relevant.columns = ['title', 'director', 'actors', 'imdb_rating', 'revenue', 'budget']\n",
    "df2_relevant.head()"
   ]
  },
  {
   "cell_type": "markdown",
   "metadata": {},
   "source": [
    "## Combine datasets"
   ]
  },
  {
   "cell_type": "markdown",
   "metadata": {},
   "source": [
    "**Pointers about combining datasets:**\n",
    "- Keep only df2 entries because it has budget values\n",
    "- Fetch actors from df1 for more actors in common entries"
   ]
  },
  {
   "cell_type": "code",
   "execution_count": 10,
   "metadata": {},
   "outputs": [
    {
     "data": {
      "text/html": [
       "<div>\n",
       "<style scoped>\n",
       "    .dataframe tbody tr th:only-of-type {\n",
       "        vertical-align: middle;\n",
       "    }\n",
       "\n",
       "    .dataframe tbody tr th {\n",
       "        vertical-align: top;\n",
       "    }\n",
       "\n",
       "    .dataframe thead th {\n",
       "        text-align: right;\n",
       "    }\n",
       "</style>\n",
       "<table border=\"1\" class=\"dataframe\">\n",
       "  <thead>\n",
       "    <tr style=\"text-align: right;\">\n",
       "      <th></th>\n",
       "      <th>title</th>\n",
       "      <th>director</th>\n",
       "      <th>actors_x</th>\n",
       "      <th>imdb_rating</th>\n",
       "      <th>revenue</th>\n",
       "      <th>budget</th>\n",
       "      <th>actors_y</th>\n",
       "    </tr>\n",
       "  </thead>\n",
       "  <tbody>\n",
       "    <tr>\n",
       "      <th>0</th>\n",
       "      <td>avatar</td>\n",
       "      <td>James Cameron</td>\n",
       "      <td>[CCH Pounder, Joel David Moore, Wes Studi]</td>\n",
       "      <td>7.9</td>\n",
       "      <td>760505847.0</td>\n",
       "      <td>237000000.0</td>\n",
       "      <td>[Sam Worthington, Zoe Saldana, Sigourney Weave...</td>\n",
       "    </tr>\n",
       "    <tr>\n",
       "      <th>1</th>\n",
       "      <td>pirates of the caribbean: at world's end</td>\n",
       "      <td>Gore Verbinski</td>\n",
       "      <td>[Johnny Depp, Orlando Bloom, Jack Davenport]</td>\n",
       "      <td>7.1</td>\n",
       "      <td>309404152.0</td>\n",
       "      <td>300000000.0</td>\n",
       "      <td>[Johnny Depp, Orlando Bloom, Keira Knightley, ...</td>\n",
       "    </tr>\n",
       "    <tr>\n",
       "      <th>2</th>\n",
       "      <td>spectre</td>\n",
       "      <td>Sam Mendes</td>\n",
       "      <td>[Christoph Waltz, Rory Kinnear, Stephanie Sigman]</td>\n",
       "      <td>6.8</td>\n",
       "      <td>200074175.0</td>\n",
       "      <td>245000000.0</td>\n",
       "      <td>[Daniel Craig, Christoph Waltz, Léa Seydoux, R...</td>\n",
       "    </tr>\n",
       "    <tr>\n",
       "      <th>3</th>\n",
       "      <td>the dark knight rises</td>\n",
       "      <td>Christopher Nolan</td>\n",
       "      <td>[Tom Hardy, Christian Bale, Joseph Gordon-Levitt]</td>\n",
       "      <td>8.5</td>\n",
       "      <td>448130642.0</td>\n",
       "      <td>250000000.0</td>\n",
       "      <td>[Christian Bale, Tom Hardy, Anne Hathaway, Gar...</td>\n",
       "    </tr>\n",
       "    <tr>\n",
       "      <th>4</th>\n",
       "      <td>john carter</td>\n",
       "      <td>Andrew Stanton</td>\n",
       "      <td>[Daryl Sabara, Samantha Morton, Polly Walker]</td>\n",
       "      <td>6.6</td>\n",
       "      <td>73058679.0</td>\n",
       "      <td>263700000.0</td>\n",
       "      <td>[Taylor Kitsch, Lynn Collins, Willem Dafoe, Sa...</td>\n",
       "    </tr>\n",
       "  </tbody>\n",
       "</table>\n",
       "</div>"
      ],
      "text/plain": [
       "                                      title           director  \\\n",
       "0                                    avatar      James Cameron   \n",
       "1  pirates of the caribbean: at world's end     Gore Verbinski   \n",
       "2                                   spectre         Sam Mendes   \n",
       "3                     the dark knight rises  Christopher Nolan   \n",
       "4                               john carter     Andrew Stanton   \n",
       "\n",
       "                                            actors_x  imdb_rating  \\\n",
       "0         [CCH Pounder, Joel David Moore, Wes Studi]          7.9   \n",
       "1       [Johnny Depp, Orlando Bloom, Jack Davenport]          7.1   \n",
       "2  [Christoph Waltz, Rory Kinnear, Stephanie Sigman]          6.8   \n",
       "3  [Tom Hardy, Christian Bale, Joseph Gordon-Levitt]          8.5   \n",
       "4      [Daryl Sabara, Samantha Morton, Polly Walker]          6.6   \n",
       "\n",
       "       revenue       budget                                           actors_y  \n",
       "0  760505847.0  237000000.0  [Sam Worthington, Zoe Saldana, Sigourney Weave...  \n",
       "1  309404152.0  300000000.0  [Johnny Depp, Orlando Bloom, Keira Knightley, ...  \n",
       "2  200074175.0  245000000.0  [Daniel Craig, Christoph Waltz, Léa Seydoux, R...  \n",
       "3  448130642.0  250000000.0  [Christian Bale, Tom Hardy, Anne Hathaway, Gar...  \n",
       "4   73058679.0  263700000.0  [Taylor Kitsch, Lynn Collins, Willem Dafoe, Sa...  "
      ]
     },
     "execution_count": 10,
     "metadata": {},
     "output_type": "execute_result"
    }
   ],
   "source": [
    "# Merge the two dataframes to keep the common entries\n",
    "df_merge = df2_relevant.merge(df1_relevant, on = \"title\")\n",
    "df_merge.head()"
   ]
  },
  {
   "cell_type": "code",
   "execution_count": 11,
   "metadata": {},
   "outputs": [],
   "source": [
    "# Concatenate the actors list from the primary dataset (run this cell only once)\n",
    "df_merge['actors_x'] = df_merge['actors_x'] + df_merge['actors_y']\n",
    "df_merge = df_merge.drop(columns = ['actors_y'])"
   ]
  },
  {
   "cell_type": "code",
   "execution_count": 12,
   "metadata": {},
   "outputs": [
    {
     "data": {
      "text/html": [
       "<div>\n",
       "<style scoped>\n",
       "    .dataframe tbody tr th:only-of-type {\n",
       "        vertical-align: middle;\n",
       "    }\n",
       "\n",
       "    .dataframe tbody tr th {\n",
       "        vertical-align: top;\n",
       "    }\n",
       "\n",
       "    .dataframe thead th {\n",
       "        text-align: right;\n",
       "    }\n",
       "</style>\n",
       "<table border=\"1\" class=\"dataframe\">\n",
       "  <thead>\n",
       "    <tr style=\"text-align: right;\">\n",
       "      <th></th>\n",
       "      <th>title</th>\n",
       "      <th>director</th>\n",
       "      <th>actors</th>\n",
       "      <th>imdb_rating</th>\n",
       "      <th>revenue</th>\n",
       "      <th>budget</th>\n",
       "    </tr>\n",
       "  </thead>\n",
       "  <tbody>\n",
       "    <tr>\n",
       "      <th>0</th>\n",
       "      <td>avatar</td>\n",
       "      <td>James Cameron</td>\n",
       "      <td>[Sigourney Weaver, Joel David Moore, CCH Pound...</td>\n",
       "      <td>7.9</td>\n",
       "      <td>760505847.0</td>\n",
       "      <td>237000000.0</td>\n",
       "    </tr>\n",
       "    <tr>\n",
       "      <th>1</th>\n",
       "      <td>pirates of the caribbean: at world's end</td>\n",
       "      <td>Gore Verbinski</td>\n",
       "      <td>[Geoffrey Rush, Jack Davenport, Orlando Bloom,...</td>\n",
       "      <td>7.1</td>\n",
       "      <td>309404152.0</td>\n",
       "      <td>300000000.0</td>\n",
       "    </tr>\n",
       "    <tr>\n",
       "      <th>2</th>\n",
       "      <td>spectre</td>\n",
       "      <td>Sam Mendes</td>\n",
       "      <td>[Stephanie Sigman, Christoph Waltz, Léa Seydou...</td>\n",
       "      <td>6.8</td>\n",
       "      <td>200074175.0</td>\n",
       "      <td>245000000.0</td>\n",
       "    </tr>\n",
       "    <tr>\n",
       "      <th>3</th>\n",
       "      <td>the dark knight rises</td>\n",
       "      <td>Christopher Nolan</td>\n",
       "      <td>[Christian Bale, Joseph Gordon-Levitt, Tom Har...</td>\n",
       "      <td>8.5</td>\n",
       "      <td>448130642.0</td>\n",
       "      <td>250000000.0</td>\n",
       "    </tr>\n",
       "    <tr>\n",
       "      <th>4</th>\n",
       "      <td>john carter</td>\n",
       "      <td>Andrew Stanton</td>\n",
       "      <td>[Polly Walker, Willem Dafoe, Lynn Collins, Sam...</td>\n",
       "      <td>6.6</td>\n",
       "      <td>73058679.0</td>\n",
       "      <td>263700000.0</td>\n",
       "    </tr>\n",
       "  </tbody>\n",
       "</table>\n",
       "</div>"
      ],
      "text/plain": [
       "                                      title           director  \\\n",
       "0                                    avatar      James Cameron   \n",
       "1  pirates of the caribbean: at world's end     Gore Verbinski   \n",
       "2                                   spectre         Sam Mendes   \n",
       "3                     the dark knight rises  Christopher Nolan   \n",
       "4                               john carter     Andrew Stanton   \n",
       "\n",
       "                                              actors  imdb_rating  \\\n",
       "0  [Sigourney Weaver, Joel David Moore, CCH Pound...          7.9   \n",
       "1  [Geoffrey Rush, Jack Davenport, Orlando Bloom,...          7.1   \n",
       "2  [Stephanie Sigman, Christoph Waltz, Léa Seydou...          6.8   \n",
       "3  [Christian Bale, Joseph Gordon-Levitt, Tom Har...          8.5   \n",
       "4  [Polly Walker, Willem Dafoe, Lynn Collins, Sam...          6.6   \n",
       "\n",
       "       revenue       budget  \n",
       "0  760505847.0  237000000.0  \n",
       "1  309404152.0  300000000.0  \n",
       "2  200074175.0  245000000.0  \n",
       "3  448130642.0  250000000.0  \n",
       "4   73058679.0  263700000.0  "
      ]
     },
     "execution_count": 12,
     "metadata": {},
     "output_type": "execute_result"
    }
   ],
   "source": [
    "# Standardize column names\n",
    "df_merge.columns = ['title', 'director', 'actors', 'imdb_rating', 'revenue', 'budget']\n",
    "# Keep only the distinct actor names\n",
    "df_merge['actors'] = df_merge['actors'].apply(lambda x: list(set(x)))\n",
    "df_merge.head()"
   ]
  },
  {
   "cell_type": "code",
   "execution_count": 13,
   "metadata": {},
   "outputs": [],
   "source": [
    "# Get the remaining secondary dataset entries\n",
    "df2_exclusive = df2_relevant[~df2_relevant['title'].isin(df_merge['title'])]"
   ]
  },
  {
   "cell_type": "code",
   "execution_count": 14,
   "metadata": {},
   "outputs": [
    {
     "data": {
      "text/html": [
       "<div>\n",
       "<style scoped>\n",
       "    .dataframe tbody tr th:only-of-type {\n",
       "        vertical-align: middle;\n",
       "    }\n",
       "\n",
       "    .dataframe tbody tr th {\n",
       "        vertical-align: top;\n",
       "    }\n",
       "\n",
       "    .dataframe thead th {\n",
       "        text-align: right;\n",
       "    }\n",
       "</style>\n",
       "<table border=\"1\" class=\"dataframe\">\n",
       "  <thead>\n",
       "    <tr style=\"text-align: right;\">\n",
       "      <th></th>\n",
       "      <th>title</th>\n",
       "      <th>director</th>\n",
       "      <th>actors</th>\n",
       "      <th>imdb_rating</th>\n",
       "      <th>revenue</th>\n",
       "      <th>budget</th>\n",
       "    </tr>\n",
       "  </thead>\n",
       "  <tbody>\n",
       "    <tr>\n",
       "      <th>0</th>\n",
       "      <td>avatar</td>\n",
       "      <td>James Cameron</td>\n",
       "      <td>[Sigourney Weaver, Joel David Moore, CCH Pound...</td>\n",
       "      <td>7.9</td>\n",
       "      <td>760505847.0</td>\n",
       "      <td>237000000.0</td>\n",
       "    </tr>\n",
       "    <tr>\n",
       "      <th>1</th>\n",
       "      <td>pirates of the caribbean: at world's end</td>\n",
       "      <td>Gore Verbinski</td>\n",
       "      <td>[Geoffrey Rush, Jack Davenport, Orlando Bloom,...</td>\n",
       "      <td>7.1</td>\n",
       "      <td>309404152.0</td>\n",
       "      <td>300000000.0</td>\n",
       "    </tr>\n",
       "    <tr>\n",
       "      <th>2</th>\n",
       "      <td>spectre</td>\n",
       "      <td>Sam Mendes</td>\n",
       "      <td>[Stephanie Sigman, Christoph Waltz, Léa Seydou...</td>\n",
       "      <td>6.8</td>\n",
       "      <td>200074175.0</td>\n",
       "      <td>245000000.0</td>\n",
       "    </tr>\n",
       "    <tr>\n",
       "      <th>3</th>\n",
       "      <td>the dark knight rises</td>\n",
       "      <td>Christopher Nolan</td>\n",
       "      <td>[Christian Bale, Joseph Gordon-Levitt, Tom Har...</td>\n",
       "      <td>8.5</td>\n",
       "      <td>448130642.0</td>\n",
       "      <td>250000000.0</td>\n",
       "    </tr>\n",
       "    <tr>\n",
       "      <th>4</th>\n",
       "      <td>john carter</td>\n",
       "      <td>Andrew Stanton</td>\n",
       "      <td>[Polly Walker, Willem Dafoe, Lynn Collins, Sam...</td>\n",
       "      <td>6.6</td>\n",
       "      <td>73058679.0</td>\n",
       "      <td>263700000.0</td>\n",
       "    </tr>\n",
       "  </tbody>\n",
       "</table>\n",
       "</div>"
      ],
      "text/plain": [
       "                                      title           director  \\\n",
       "0                                    avatar      James Cameron   \n",
       "1  pirates of the caribbean: at world's end     Gore Verbinski   \n",
       "2                                   spectre         Sam Mendes   \n",
       "3                     the dark knight rises  Christopher Nolan   \n",
       "4                               john carter     Andrew Stanton   \n",
       "\n",
       "                                              actors  imdb_rating  \\\n",
       "0  [Sigourney Weaver, Joel David Moore, CCH Pound...          7.9   \n",
       "1  [Geoffrey Rush, Jack Davenport, Orlando Bloom,...          7.1   \n",
       "2  [Stephanie Sigman, Christoph Waltz, Léa Seydou...          6.8   \n",
       "3  [Christian Bale, Joseph Gordon-Levitt, Tom Har...          8.5   \n",
       "4  [Polly Walker, Willem Dafoe, Lynn Collins, Sam...          6.6   \n",
       "\n",
       "       revenue       budget  \n",
       "0  760505847.0  237000000.0  \n",
       "1  309404152.0  300000000.0  \n",
       "2  200074175.0  245000000.0  \n",
       "3  448130642.0  250000000.0  \n",
       "4   73058679.0  263700000.0  "
      ]
     },
     "execution_count": 14,
     "metadata": {},
     "output_type": "execute_result"
    }
   ],
   "source": [
    "# Finally, combine the two dataframes\n",
    "df_comb = df_merge.append(df2_exclusive)\n",
    "df_comb.head()"
   ]
  },
  {
   "cell_type": "code",
   "execution_count": 15,
   "metadata": {},
   "outputs": [],
   "source": [
    "# df_comb.to_csv(r'tmp1.csv', index = False)"
   ]
  },
  {
   "cell_type": "markdown",
   "metadata": {},
   "source": [
    "## Create director-actor pairs"
   ]
  },
  {
   "cell_type": "code",
   "execution_count": 16,
   "metadata": {},
   "outputs": [
    {
     "data": {
      "text/html": [
       "<div>\n",
       "<style scoped>\n",
       "    .dataframe tbody tr th:only-of-type {\n",
       "        vertical-align: middle;\n",
       "    }\n",
       "\n",
       "    .dataframe tbody tr th {\n",
       "        vertical-align: top;\n",
       "    }\n",
       "\n",
       "    .dataframe thead th {\n",
       "        text-align: right;\n",
       "    }\n",
       "</style>\n",
       "<table border=\"1\" class=\"dataframe\">\n",
       "  <thead>\n",
       "    <tr style=\"text-align: right;\">\n",
       "      <th></th>\n",
       "      <th>title</th>\n",
       "      <th>director</th>\n",
       "      <th>actors</th>\n",
       "      <th>imdb_rating</th>\n",
       "      <th>revenue</th>\n",
       "      <th>budget</th>\n",
       "    </tr>\n",
       "  </thead>\n",
       "  <tbody>\n",
       "    <tr>\n",
       "      <th>0</th>\n",
       "      <td>avatar</td>\n",
       "      <td>James Cameron</td>\n",
       "      <td>Sigourney Weaver</td>\n",
       "      <td>7.9</td>\n",
       "      <td>760505847.0</td>\n",
       "      <td>237000000.0</td>\n",
       "    </tr>\n",
       "    <tr>\n",
       "      <th>0</th>\n",
       "      <td>avatar</td>\n",
       "      <td>James Cameron</td>\n",
       "      <td>Joel David Moore</td>\n",
       "      <td>7.9</td>\n",
       "      <td>760505847.0</td>\n",
       "      <td>237000000.0</td>\n",
       "    </tr>\n",
       "    <tr>\n",
       "      <th>0</th>\n",
       "      <td>avatar</td>\n",
       "      <td>James Cameron</td>\n",
       "      <td>CCH Pounder</td>\n",
       "      <td>7.9</td>\n",
       "      <td>760505847.0</td>\n",
       "      <td>237000000.0</td>\n",
       "    </tr>\n",
       "    <tr>\n",
       "      <th>0</th>\n",
       "      <td>avatar</td>\n",
       "      <td>James Cameron</td>\n",
       "      <td>Michelle Rodriguez</td>\n",
       "      <td>7.9</td>\n",
       "      <td>760505847.0</td>\n",
       "      <td>237000000.0</td>\n",
       "    </tr>\n",
       "    <tr>\n",
       "      <th>0</th>\n",
       "      <td>avatar</td>\n",
       "      <td>James Cameron</td>\n",
       "      <td>Zoe Saldana</td>\n",
       "      <td>7.9</td>\n",
       "      <td>760505847.0</td>\n",
       "      <td>237000000.0</td>\n",
       "    </tr>\n",
       "  </tbody>\n",
       "</table>\n",
       "</div>"
      ],
      "text/plain": [
       "    title       director              actors  imdb_rating      revenue  \\\n",
       "0  avatar  James Cameron    Sigourney Weaver          7.9  760505847.0   \n",
       "0  avatar  James Cameron    Joel David Moore          7.9  760505847.0   \n",
       "0  avatar  James Cameron         CCH Pounder          7.9  760505847.0   \n",
       "0  avatar  James Cameron  Michelle Rodriguez          7.9  760505847.0   \n",
       "0  avatar  James Cameron         Zoe Saldana          7.9  760505847.0   \n",
       "\n",
       "        budget  \n",
       "0  237000000.0  \n",
       "0  237000000.0  \n",
       "0  237000000.0  \n",
       "0  237000000.0  \n",
       "0  237000000.0  "
      ]
     },
     "execution_count": 16,
     "metadata": {},
     "output_type": "execute_result"
    }
   ],
   "source": [
    "# Seperate the actors list into multiple rows\n",
    "df_comb = df_comb.explode('actors')\n",
    "# Remove duplicate entries\n",
    "df_comb = df_comb.drop_duplicates()\n",
    "df_comb.head()"
   ]
  },
  {
   "cell_type": "code",
   "execution_count": 17,
   "metadata": {},
   "outputs": [
    {
     "data": {
      "text/html": [
       "<div>\n",
       "<style scoped>\n",
       "    .dataframe tbody tr th:only-of-type {\n",
       "        vertical-align: middle;\n",
       "    }\n",
       "\n",
       "    .dataframe tbody tr th {\n",
       "        vertical-align: top;\n",
       "    }\n",
       "\n",
       "    .dataframe thead th {\n",
       "        text-align: right;\n",
       "    }\n",
       "</style>\n",
       "<table border=\"1\" class=\"dataframe\">\n",
       "  <thead>\n",
       "    <tr style=\"text-align: right;\">\n",
       "      <th></th>\n",
       "      <th>director</th>\n",
       "      <th>actors</th>\n",
       "      <th>title</th>\n",
       "      <th>imdb_rating</th>\n",
       "      <th>revenue</th>\n",
       "      <th>budget</th>\n",
       "    </tr>\n",
       "  </thead>\n",
       "  <tbody>\n",
       "    <tr>\n",
       "      <th>0</th>\n",
       "      <td>Aaron Schneider</td>\n",
       "      <td>Bill Cobbs</td>\n",
       "      <td>[get low]</td>\n",
       "      <td>[7.1]</td>\n",
       "      <td>[9176553.0]</td>\n",
       "      <td>[7500000.0]</td>\n",
       "    </tr>\n",
       "    <tr>\n",
       "      <th>1</th>\n",
       "      <td>Aaron Schneider</td>\n",
       "      <td>Bill Murray</td>\n",
       "      <td>[get low]</td>\n",
       "      <td>[7.1]</td>\n",
       "      <td>[9176553.0]</td>\n",
       "      <td>[7500000.0]</td>\n",
       "    </tr>\n",
       "    <tr>\n",
       "      <th>2</th>\n",
       "      <td>Aaron Schneider</td>\n",
       "      <td>Robert Duvall</td>\n",
       "      <td>[get low]</td>\n",
       "      <td>[7.1]</td>\n",
       "      <td>[9176553.0]</td>\n",
       "      <td>[7500000.0]</td>\n",
       "    </tr>\n",
       "    <tr>\n",
       "      <th>3</th>\n",
       "      <td>Aaron Seltzer</td>\n",
       "      <td>Alyson Hannigan</td>\n",
       "      <td>[date movie]</td>\n",
       "      <td>[2.7]</td>\n",
       "      <td>[48546578.0]</td>\n",
       "      <td>[20000000.0]</td>\n",
       "    </tr>\n",
       "    <tr>\n",
       "      <th>4</th>\n",
       "      <td>Aaron Seltzer</td>\n",
       "      <td>Carmen Electra</td>\n",
       "      <td>[date movie]</td>\n",
       "      <td>[2.7]</td>\n",
       "      <td>[48546578.0]</td>\n",
       "      <td>[20000000.0]</td>\n",
       "    </tr>\n",
       "  </tbody>\n",
       "</table>\n",
       "</div>"
      ],
      "text/plain": [
       "          director           actors         title imdb_rating       revenue  \\\n",
       "0  Aaron Schneider       Bill Cobbs     [get low]       [7.1]   [9176553.0]   \n",
       "1  Aaron Schneider      Bill Murray     [get low]       [7.1]   [9176553.0]   \n",
       "2  Aaron Schneider    Robert Duvall     [get low]       [7.1]   [9176553.0]   \n",
       "3    Aaron Seltzer  Alyson Hannigan  [date movie]       [2.7]  [48546578.0]   \n",
       "4    Aaron Seltzer   Carmen Electra  [date movie]       [2.7]  [48546578.0]   \n",
       "\n",
       "         budget  \n",
       "0   [7500000.0]  \n",
       "1   [7500000.0]  \n",
       "2   [7500000.0]  \n",
       "3  [20000000.0]  \n",
       "4  [20000000.0]  "
      ]
     },
     "execution_count": 17,
     "metadata": {},
     "output_type": "execute_result"
    }
   ],
   "source": [
    "# Group by director-actor pair, keep the remaining columns as lists\n",
    "df_group = df_comb.groupby(['director', 'actors'], as_index=False)[['title', 'imdb_rating', 'revenue', 'budget']].agg(lambda x: list(x))\n",
    "df_group.head()"
   ]
  },
  {
   "cell_type": "code",
   "execution_count": 18,
   "metadata": {},
   "outputs": [
    {
     "data": {
      "text/html": [
       "<div>\n",
       "<style scoped>\n",
       "    .dataframe tbody tr th:only-of-type {\n",
       "        vertical-align: middle;\n",
       "    }\n",
       "\n",
       "    .dataframe tbody tr th {\n",
       "        vertical-align: top;\n",
       "    }\n",
       "\n",
       "    .dataframe thead th {\n",
       "        text-align: right;\n",
       "    }\n",
       "</style>\n",
       "<table border=\"1\" class=\"dataframe\">\n",
       "  <thead>\n",
       "    <tr style=\"text-align: right;\">\n",
       "      <th></th>\n",
       "      <th>director</th>\n",
       "      <th>actors</th>\n",
       "      <th>title</th>\n",
       "      <th>imdb_rating</th>\n",
       "      <th>revenue</th>\n",
       "      <th>budget</th>\n",
       "      <th>movies_count</th>\n",
       "    </tr>\n",
       "  </thead>\n",
       "  <tbody>\n",
       "    <tr>\n",
       "      <th>26</th>\n",
       "      <td>Adam McKay</td>\n",
       "      <td>John C. Reilly</td>\n",
       "      <td>[talladega nights: the ballad of ricky bobby, ...</td>\n",
       "      <td>[6.6, 6.9]</td>\n",
       "      <td>[148213377.0, 100468793.0]</td>\n",
       "      <td>[73000000.0, 65000000.0]</td>\n",
       "      <td>2</td>\n",
       "    </tr>\n",
       "    <tr>\n",
       "      <th>33</th>\n",
       "      <td>Adam McKay</td>\n",
       "      <td>Steve Carell</td>\n",
       "      <td>[the big short, anchorman 2: the legend contin...</td>\n",
       "      <td>[7.8, 6.3, 7.2]</td>\n",
       "      <td>[70235322.0, 2175312.0, 84136909.0]</td>\n",
       "      <td>[28000000.0, 50000000.0, 26000000.0]</td>\n",
       "      <td>3</td>\n",
       "    </tr>\n",
       "    <tr>\n",
       "      <th>34</th>\n",
       "      <td>Adam McKay</td>\n",
       "      <td>Will Ferrell</td>\n",
       "      <td>[the other guys, talladega nights: the ballad ...</td>\n",
       "      <td>[6.7, 6.6, 6.9, 6.3, 7.2]</td>\n",
       "      <td>[119219978.0, 148213377.0, 100468793.0, 217531...</td>\n",
       "      <td>[100000000.0, 73000000.0, 65000000.0, 50000000...</td>\n",
       "      <td>5</td>\n",
       "    </tr>\n",
       "    <tr>\n",
       "      <th>191</th>\n",
       "      <td>Alejandro G. Iñárritu</td>\n",
       "      <td>Naomi Watts</td>\n",
       "      <td>[birdman or (the unexpected virtue of ignoranc...</td>\n",
       "      <td>[7.8, 7.7]</td>\n",
       "      <td>[42335698.0, 16248701.0]</td>\n",
       "      <td>[18000000.0, 20000000.0]</td>\n",
       "      <td>2</td>\n",
       "    </tr>\n",
       "    <tr>\n",
       "      <th>217</th>\n",
       "      <td>Alex Kendrick</td>\n",
       "      <td>Alex Kendrick</td>\n",
       "      <td>[courageous, facing the giants]</td>\n",
       "      <td>[7.0, 6.7]</td>\n",
       "      <td>[34522221.0, 10174663.0]</td>\n",
       "      <td>[2000000.0, 100000.0]</td>\n",
       "      <td>2</td>\n",
       "    </tr>\n",
       "  </tbody>\n",
       "</table>\n",
       "</div>"
      ],
      "text/plain": [
       "                  director          actors  \\\n",
       "26              Adam McKay  John C. Reilly   \n",
       "33              Adam McKay    Steve Carell   \n",
       "34              Adam McKay    Will Ferrell   \n",
       "191  Alejandro G. Iñárritu     Naomi Watts   \n",
       "217          Alex Kendrick   Alex Kendrick   \n",
       "\n",
       "                                                 title  \\\n",
       "26   [talladega nights: the ballad of ricky bobby, ...   \n",
       "33   [the big short, anchorman 2: the legend contin...   \n",
       "34   [the other guys, talladega nights: the ballad ...   \n",
       "191  [birdman or (the unexpected virtue of ignoranc...   \n",
       "217                    [courageous, facing the giants]   \n",
       "\n",
       "                   imdb_rating  \\\n",
       "26                  [6.6, 6.9]   \n",
       "33             [7.8, 6.3, 7.2]   \n",
       "34   [6.7, 6.6, 6.9, 6.3, 7.2]   \n",
       "191                 [7.8, 7.7]   \n",
       "217                 [7.0, 6.7]   \n",
       "\n",
       "                                               revenue  \\\n",
       "26                          [148213377.0, 100468793.0]   \n",
       "33                 [70235322.0, 2175312.0, 84136909.0]   \n",
       "34   [119219978.0, 148213377.0, 100468793.0, 217531...   \n",
       "191                           [42335698.0, 16248701.0]   \n",
       "217                           [34522221.0, 10174663.0]   \n",
       "\n",
       "                                                budget  movies_count  \n",
       "26                            [73000000.0, 65000000.0]             2  \n",
       "33                [28000000.0, 50000000.0, 26000000.0]             3  \n",
       "34   [100000000.0, 73000000.0, 65000000.0, 50000000...             5  \n",
       "191                           [18000000.0, 20000000.0]             2  \n",
       "217                              [2000000.0, 100000.0]             2  "
      ]
     },
     "execution_count": 18,
     "metadata": {},
     "output_type": "execute_result"
    }
   ],
   "source": [
    "# Get the movies count for each pair\n",
    "df_group['movies_count'] = df_group['title'].apply(len)\n",
    "# Keep only the pairs with at least 2 movies\n",
    "df_filter = df_group[df_group.movies_count > 1]\n",
    "df_filter.head()"
   ]
  },
  {
   "cell_type": "code",
   "execution_count": 19,
   "metadata": {},
   "outputs": [
    {
     "data": {
      "text/plain": [
       "(501, 7)"
      ]
     },
     "execution_count": 19,
     "metadata": {},
     "output_type": "execute_result"
    }
   ],
   "source": [
    "df_filter.shape"
   ]
  },
  {
   "cell_type": "code",
   "execution_count": 20,
   "metadata": {},
   "outputs": [],
   "source": [
    "# df_filter.to_csv(r'tmp2.csv', index = False)"
   ]
  },
  {
   "cell_type": "code",
   "execution_count": 21,
   "metadata": {},
   "outputs": [],
   "source": [
    "### Store the result into a json file\n",
    "directors = df_filter['director'].drop_duplicates()\n",
    "actors = df_filter['actors'].drop_duplicates()\n",
    "\n",
    "# Iterate rows:\n",
    "nodes = list()\n",
    "names = list()\n",
    "for director in directors:\n",
    "    nodes.append({'id': director, 'group' : 1})\n",
    "    names.append(director)\n",
    "for actor in actors:\n",
    "    nodes.append({'id': actor, 'group' : 2})\n",
    "    names.append(actor)\n",
    "\n",
    "links = list()\n",
    "for index, row in df_filter.iterrows():\n",
    "    links.append({\"source\": row['director'], \"target\": row['actors'], \"title\": row['title'], \"imdb_rating\": row['imdb_rating'],\n",
    "                  \"revenue\": row['revenue'], \"budget\": row['budget'], \"counts\": row['movies_count']})\n",
    "\n",
    "json_file = {\n",
    "    'nodes': nodes,\n",
    "    'links': links\n",
    "}\n",
    "\n",
    "with open('new-result.json', 'w') as fp:\n",
    "    json.dump(json_file, fp)"
   ]
  },
  {
   "cell_type": "markdown",
   "metadata": {},
   "source": [
    "## Troublesome cases"
   ]
  },
  {
   "cell_type": "markdown",
   "metadata": {},
   "source": [
    "#### Common people as director and actor"
   ]
  },
  {
   "cell_type": "code",
   "execution_count": 22,
   "metadata": {},
   "outputs": [
    {
     "data": {
      "text/plain": [
       "19"
      ]
     },
     "execution_count": 22,
     "metadata": {},
     "output_type": "execute_result"
    }
   ],
   "source": [
    "acting_directors = list(set(directors[directors.isin(actors)]))\n",
    "len(acting_directors)"
   ]
  },
  {
   "cell_type": "code",
   "execution_count": 23,
   "metadata": {},
   "outputs": [
    {
     "data": {
      "text/plain": [
       "19"
      ]
     },
     "execution_count": 23,
     "metadata": {},
     "output_type": "execute_result"
    }
   ],
   "source": [
    "directing_actors = list(set(actors[actors.isin(directors)]))\n",
    "len(directing_actors)"
   ]
  },
  {
   "cell_type": "code",
   "execution_count": 24,
   "metadata": {},
   "outputs": [
    {
     "name": "stdout",
     "output_type": "stream",
     "text": [
      "['Alex Kendrick', 'Ben Stiller', 'Woody Allen', 'Michael Moore', 'Trey Parker', 'Denzel Washington', 'Seth MacFarlane', 'Clint Eastwood', 'Ben Affleck', 'Ben Falcone', 'Jay Chandrasekhar', 'Jonathan Frakes', 'Tom Hanks', 'Warren Beatty', 'Jon Favreau', 'Quentin Tarantino', 'Sylvester Stallone', 'Vincent Gallo', 'Leonard Nimoy']\n"
     ]
    }
   ],
   "source": [
    "print(acting_directors)"
   ]
  },
  {
   "cell_type": "markdown",
   "metadata": {},
   "source": [
    "#### Self-paired people"
   ]
  },
  {
   "cell_type": "code",
   "execution_count": 25,
   "metadata": {},
   "outputs": [],
   "source": [
    "df_pair = df_filter[['director', 'actors']]\n",
    "df_pair['same'] = np.where((df_pair.director == df_pair.actors), True, False)"
   ]
  },
  {
   "cell_type": "code",
   "execution_count": 26,
   "metadata": {},
   "outputs": [
    {
     "data": {
      "text/plain": [
       "(18,)"
      ]
     },
     "execution_count": 26,
     "metadata": {},
     "output_type": "execute_result"
    }
   ],
   "source": [
    "df_pair = df_pair[df_pair.same == True]\n",
    "self_paired = df_pair['director']\n",
    "self_paired.shape"
   ]
  },
  {
   "cell_type": "code",
   "execution_count": 27,
   "metadata": {},
   "outputs": [
    {
     "name": "stdout",
     "output_type": "stream",
     "text": [
      "['Alex Kendrick' 'Ben Affleck' 'Ben Falcone' 'Ben Stiller'\n",
      " 'Clint Eastwood' 'Denzel Washington' 'Jay Chandrasekhar' 'Jon Favreau'\n",
      " 'Jonathan Frakes' 'Leonard Nimoy' 'Michael Moore' 'Seth MacFarlane'\n",
      " 'Sylvester Stallone' 'Tom Hanks' 'Trey Parker' 'Vincent Gallo'\n",
      " 'Warren Beatty' 'Woody Allen']\n"
     ]
    }
   ],
   "source": [
    "print(self_paired.values)"
   ]
  }
 ],
 "metadata": {
  "kernelspec": {
   "display_name": "Python 3",
   "language": "python",
   "name": "python3"
  },
  "language_info": {
   "codemirror_mode": {
    "name": "ipython",
    "version": 3
   },
   "file_extension": ".py",
   "mimetype": "text/x-python",
   "name": "python",
   "nbconvert_exporter": "python",
   "pygments_lexer": "ipython3",
   "version": "3.8.3"
  }
 },
 "nbformat": 4,
 "nbformat_minor": 4
}
