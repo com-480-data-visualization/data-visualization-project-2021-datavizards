{
 "cells": [
  {
   "cell_type": "code",
   "execution_count": 1,
   "metadata": {},
   "outputs": [],
   "source": [
    "# Library imports\n",
    "import pandas as pd\n",
    "import numpy as np\n",
    "import json"
   ]
  },
  {
   "cell_type": "code",
   "execution_count": 2,
   "metadata": {},
   "outputs": [],
   "source": [
    "# Turn off the SettingWithCopyWarning (do this post-dev only)\n",
    "pd.set_option('mode.chained_assignment', None)"
   ]
  },
  {
   "cell_type": "code",
   "execution_count": 3,
   "metadata": {},
   "outputs": [],
   "source": [
    "# Read the datasets\n",
    "df1 = pd.read_csv('../data/primary_dataset.csv')\n",
    "df2 = pd.read_csv('../data/secondary_dataset.csv')"
   ]
  },
  {
   "cell_type": "markdown",
   "metadata": {},
   "source": [
    "## Primary dataset processing"
   ]
  },
  {
   "cell_type": "code",
   "execution_count": 4,
   "metadata": {},
   "outputs": [
    {
     "data": {
      "text/plain": [
       "Index(['Rank', 'Title', 'Genre', 'Description', 'Director', 'Actors', 'Year',\n",
       "       'Runtime (Minutes)', 'Rating', 'Votes', 'Revenue (Millions)',\n",
       "       'Metascore'],\n",
       "      dtype='object')"
      ]
     },
     "execution_count": 4,
     "metadata": {},
     "output_type": "execute_result"
    }
   ],
   "source": [
    "df1.columns"
   ]
  },
  {
   "cell_type": "code",
   "execution_count": 5,
   "metadata": {},
   "outputs": [],
   "source": [
    "# Convert movie, director and actor names to lower case (for convenience)\n",
    "for col_name in ['Title', 'Director', 'Actors']:\n",
    "    df1[col_name] = df1[col_name].map(str.lower)\n",
    "# Convert to a python list\n",
    "df1['Actors List'] = df1.Actors.map(lambda x: [i.strip() for i in x.split(\",\")])"
   ]
  },
  {
   "cell_type": "code",
   "execution_count": 6,
   "metadata": {},
   "outputs": [
    {
     "data": {
      "text/html": [
       "<div>\n",
       "<style scoped>\n",
       "    .dataframe tbody tr th:only-of-type {\n",
       "        vertical-align: middle;\n",
       "    }\n",
       "\n",
       "    .dataframe tbody tr th {\n",
       "        vertical-align: top;\n",
       "    }\n",
       "\n",
       "    .dataframe thead th {\n",
       "        text-align: right;\n",
       "    }\n",
       "</style>\n",
       "<table border=\"1\" class=\"dataframe\">\n",
       "  <thead>\n",
       "    <tr style=\"text-align: right;\">\n",
       "      <th></th>\n",
       "      <th>title</th>\n",
       "      <th>actors</th>\n",
       "    </tr>\n",
       "  </thead>\n",
       "  <tbody>\n",
       "    <tr>\n",
       "      <th>0</th>\n",
       "      <td>guardians of the galaxy</td>\n",
       "      <td>[chris pratt, vin diesel, bradley cooper, zoe ...</td>\n",
       "    </tr>\n",
       "    <tr>\n",
       "      <th>1</th>\n",
       "      <td>prometheus</td>\n",
       "      <td>[noomi rapace, logan marshall-green, michael f...</td>\n",
       "    </tr>\n",
       "    <tr>\n",
       "      <th>2</th>\n",
       "      <td>split</td>\n",
       "      <td>[james mcavoy, anya taylor-joy, haley lu richa...</td>\n",
       "    </tr>\n",
       "    <tr>\n",
       "      <th>3</th>\n",
       "      <td>sing</td>\n",
       "      <td>[matthew mcconaughey, reese witherspoon, seth ...</td>\n",
       "    </tr>\n",
       "    <tr>\n",
       "      <th>4</th>\n",
       "      <td>suicide squad</td>\n",
       "      <td>[will smith, jared leto, margot robbie, viola ...</td>\n",
       "    </tr>\n",
       "  </tbody>\n",
       "</table>\n",
       "</div>"
      ],
      "text/plain": [
       "                     title                                             actors\n",
       "0  guardians of the galaxy  [chris pratt, vin diesel, bradley cooper, zoe ...\n",
       "1               prometheus  [noomi rapace, logan marshall-green, michael f...\n",
       "2                    split  [james mcavoy, anya taylor-joy, haley lu richa...\n",
       "3                     sing  [matthew mcconaughey, reese witherspoon, seth ...\n",
       "4            suicide squad  [will smith, jared leto, margot robbie, viola ..."
      ]
     },
     "execution_count": 6,
     "metadata": {},
     "output_type": "execute_result"
    }
   ],
   "source": [
    "# Keep only relevant columns (for now - add more fields for extra filter features)\n",
    "df1_relevant = df1[['Title', 'Actors List']]\n",
    "# Standardize column names\n",
    "df1_relevant.columns = ['title', 'actors']\n",
    "df1_relevant.head()"
   ]
  },
  {
   "cell_type": "markdown",
   "metadata": {},
   "source": [
    "## Secondary dataset processing"
   ]
  },
  {
   "cell_type": "code",
   "execution_count": 7,
   "metadata": {},
   "outputs": [
    {
     "data": {
      "text/plain": [
       "Index(['color', 'director_name', 'num_critic_for_reviews', 'duration',\n",
       "       'director_facebook_likes', 'actor_3_facebook_likes', 'actor_2_name',\n",
       "       'actor_1_facebook_likes', 'gross', 'genres', 'actor_1_name',\n",
       "       'movie_title', 'num_voted_users', 'cast_total_facebook_likes',\n",
       "       'actor_3_name', 'facenumber_in_poster', 'plot_keywords',\n",
       "       'movie_imdb_link', 'num_user_for_reviews', 'language', 'country',\n",
       "       'content_rating', 'budget', 'title_year', 'actor_2_facebook_likes',\n",
       "       'imdb_score', 'aspect_ratio', 'movie_facebook_likes'],\n",
       "      dtype='object')"
      ]
     },
     "execution_count": 7,
     "metadata": {},
     "output_type": "execute_result"
    }
   ],
   "source": [
    "df2.columns"
   ]
  },
  {
   "cell_type": "code",
   "execution_count": 8,
   "metadata": {},
   "outputs": [],
   "source": [
    "# We have the \"\\xa0\" character at the end ofthe titles: we want to get rid of it\n",
    "df2.movie_title = df2.movie_title.replace(u'\\xa0', u'', regex=True)\n",
    "# Convert movie, director and actor names to lower case (for convenience)\n",
    "for col_name in ['movie_title', 'director_name', 'actor_1_name', 'actor_2_name', 'actor_3_name']:\n",
    "    df2[col_name] = df2[col_name].apply(str)\n",
    "    df2[col_name] = df2[col_name].map(str.lower)\n",
    "# Combine columns and convert to python list\n",
    "df2['actors_list'] = df2[['actor_1_name', 'actor_2_name', 'actor_3_name']].apply(lambda x: ','.join(x.dropna()), axis=1)\n",
    "df2['actors_list'] = df2['actors_list'].map(lambda x: [i.strip() for i in x.split(\",\")])"
   ]
  },
  {
   "cell_type": "code",
   "execution_count": 9,
   "metadata": {},
   "outputs": [
    {
     "data": {
      "text/html": [
       "<div>\n",
       "<style scoped>\n",
       "    .dataframe tbody tr th:only-of-type {\n",
       "        vertical-align: middle;\n",
       "    }\n",
       "\n",
       "    .dataframe tbody tr th {\n",
       "        vertical-align: top;\n",
       "    }\n",
       "\n",
       "    .dataframe thead th {\n",
       "        text-align: right;\n",
       "    }\n",
       "</style>\n",
       "<table border=\"1\" class=\"dataframe\">\n",
       "  <thead>\n",
       "    <tr style=\"text-align: right;\">\n",
       "      <th></th>\n",
       "      <th>title</th>\n",
       "      <th>director</th>\n",
       "      <th>actors</th>\n",
       "      <th>year</th>\n",
       "      <th>imdb_rating</th>\n",
       "      <th>revenue</th>\n",
       "      <th>budget</th>\n",
       "    </tr>\n",
       "  </thead>\n",
       "  <tbody>\n",
       "    <tr>\n",
       "      <th>0</th>\n",
       "      <td>avatar</td>\n",
       "      <td>james cameron</td>\n",
       "      <td>[cch pounder, joel david moore, wes studi]</td>\n",
       "      <td>2009</td>\n",
       "      <td>7.9</td>\n",
       "      <td>760505847.0</td>\n",
       "      <td>237000000.0</td>\n",
       "    </tr>\n",
       "    <tr>\n",
       "      <th>1</th>\n",
       "      <td>pirates of the caribbean: at world's end</td>\n",
       "      <td>gore verbinski</td>\n",
       "      <td>[johnny depp, orlando bloom, jack davenport]</td>\n",
       "      <td>2007</td>\n",
       "      <td>7.1</td>\n",
       "      <td>309404152.0</td>\n",
       "      <td>300000000.0</td>\n",
       "    </tr>\n",
       "    <tr>\n",
       "      <th>2</th>\n",
       "      <td>spectre</td>\n",
       "      <td>sam mendes</td>\n",
       "      <td>[christoph waltz, rory kinnear, stephanie sigman]</td>\n",
       "      <td>2015</td>\n",
       "      <td>6.8</td>\n",
       "      <td>200074175.0</td>\n",
       "      <td>245000000.0</td>\n",
       "    </tr>\n",
       "    <tr>\n",
       "      <th>3</th>\n",
       "      <td>the dark knight rises</td>\n",
       "      <td>christopher nolan</td>\n",
       "      <td>[tom hardy, christian bale, joseph gordon-levitt]</td>\n",
       "      <td>2012</td>\n",
       "      <td>8.5</td>\n",
       "      <td>448130642.0</td>\n",
       "      <td>250000000.0</td>\n",
       "    </tr>\n",
       "    <tr>\n",
       "      <th>5</th>\n",
       "      <td>john carter</td>\n",
       "      <td>andrew stanton</td>\n",
       "      <td>[daryl sabara, samantha morton, polly walker]</td>\n",
       "      <td>2012</td>\n",
       "      <td>6.6</td>\n",
       "      <td>73058679.0</td>\n",
       "      <td>263700000.0</td>\n",
       "    </tr>\n",
       "  </tbody>\n",
       "</table>\n",
       "</div>"
      ],
      "text/plain": [
       "                                      title           director  \\\n",
       "0                                    avatar      james cameron   \n",
       "1  pirates of the caribbean: at world's end     gore verbinski   \n",
       "2                                   spectre         sam mendes   \n",
       "3                     the dark knight rises  christopher nolan   \n",
       "5                               john carter     andrew stanton   \n",
       "\n",
       "                                              actors  year  imdb_rating  \\\n",
       "0         [cch pounder, joel david moore, wes studi]  2009          7.9   \n",
       "1       [johnny depp, orlando bloom, jack davenport]  2007          7.1   \n",
       "2  [christoph waltz, rory kinnear, stephanie sigman]  2015          6.8   \n",
       "3  [tom hardy, christian bale, joseph gordon-levitt]  2012          8.5   \n",
       "5      [daryl sabara, samantha morton, polly walker]  2012          6.6   \n",
       "\n",
       "       revenue       budget  \n",
       "0  760505847.0  237000000.0  \n",
       "1  309404152.0  300000000.0  \n",
       "2  200074175.0  245000000.0  \n",
       "3  448130642.0  250000000.0  \n",
       "5   73058679.0  263700000.0  "
      ]
     },
     "execution_count": 9,
     "metadata": {},
     "output_type": "execute_result"
    }
   ],
   "source": [
    "# Keep only relevant columns (for now - add more fields for extra filter features)\n",
    "df2_relevant = df2[['movie_title', 'director_name', 'actors_list', 'title_year', 'imdb_score', 'gross', 'budget']]\n",
    "# Drop rows with NaN values\n",
    "df2_relevant = df2_relevant.dropna()\n",
    "# Convert title year (which is in float) to integer\n",
    "df2_relevant['title_year'] = df2_relevant['title_year'].apply(int)\n",
    "# Standardize column names\n",
    "df2_relevant.columns = ['title', 'director', 'actors', 'year', 'imdb_rating', 'revenue', 'budget']\n",
    "df2_relevant.head()"
   ]
  },
  {
   "cell_type": "markdown",
   "metadata": {},
   "source": [
    "## Combine datasets"
   ]
  },
  {
   "cell_type": "markdown",
   "metadata": {},
   "source": [
    "**Pointers about combining datasets:**\n",
    "- Keep only df2 entries because it has budget values\n",
    "- Fetch actors from df1 for more actors in common entries"
   ]
  },
  {
   "cell_type": "code",
   "execution_count": 10,
   "metadata": {},
   "outputs": [
    {
     "name": "stdout",
     "output_type": "stream",
     "text": [
      "df1: (1000, 2)\n",
      "df2: (3891, 7)\n"
     ]
    }
   ],
   "source": [
    "print('df1:', df1_relevant.shape)\n",
    "print('df2:', df2_relevant.shape)"
   ]
  },
  {
   "cell_type": "code",
   "execution_count": 11,
   "metadata": {},
   "outputs": [
    {
     "data": {
      "text/html": [
       "<div>\n",
       "<style scoped>\n",
       "    .dataframe tbody tr th:only-of-type {\n",
       "        vertical-align: middle;\n",
       "    }\n",
       "\n",
       "    .dataframe tbody tr th {\n",
       "        vertical-align: top;\n",
       "    }\n",
       "\n",
       "    .dataframe thead th {\n",
       "        text-align: right;\n",
       "    }\n",
       "</style>\n",
       "<table border=\"1\" class=\"dataframe\">\n",
       "  <thead>\n",
       "    <tr style=\"text-align: right;\">\n",
       "      <th></th>\n",
       "      <th>title</th>\n",
       "      <th>director</th>\n",
       "      <th>actors_x</th>\n",
       "      <th>year</th>\n",
       "      <th>imdb_rating</th>\n",
       "      <th>revenue</th>\n",
       "      <th>budget</th>\n",
       "      <th>actors_y</th>\n",
       "    </tr>\n",
       "  </thead>\n",
       "  <tbody>\n",
       "    <tr>\n",
       "      <th>0</th>\n",
       "      <td>avatar</td>\n",
       "      <td>james cameron</td>\n",
       "      <td>[cch pounder, joel david moore, wes studi]</td>\n",
       "      <td>2009</td>\n",
       "      <td>7.9</td>\n",
       "      <td>760505847.0</td>\n",
       "      <td>237000000.0</td>\n",
       "      <td>[sam worthington, zoe saldana, sigourney weave...</td>\n",
       "    </tr>\n",
       "    <tr>\n",
       "      <th>1</th>\n",
       "      <td>pirates of the caribbean: at world's end</td>\n",
       "      <td>gore verbinski</td>\n",
       "      <td>[johnny depp, orlando bloom, jack davenport]</td>\n",
       "      <td>2007</td>\n",
       "      <td>7.1</td>\n",
       "      <td>309404152.0</td>\n",
       "      <td>300000000.0</td>\n",
       "      <td>[johnny depp, orlando bloom, keira knightley, ...</td>\n",
       "    </tr>\n",
       "    <tr>\n",
       "      <th>2</th>\n",
       "      <td>spectre</td>\n",
       "      <td>sam mendes</td>\n",
       "      <td>[christoph waltz, rory kinnear, stephanie sigman]</td>\n",
       "      <td>2015</td>\n",
       "      <td>6.8</td>\n",
       "      <td>200074175.0</td>\n",
       "      <td>245000000.0</td>\n",
       "      <td>[daniel craig, christoph waltz, léa seydoux, r...</td>\n",
       "    </tr>\n",
       "    <tr>\n",
       "      <th>3</th>\n",
       "      <td>the dark knight rises</td>\n",
       "      <td>christopher nolan</td>\n",
       "      <td>[tom hardy, christian bale, joseph gordon-levitt]</td>\n",
       "      <td>2012</td>\n",
       "      <td>8.5</td>\n",
       "      <td>448130642.0</td>\n",
       "      <td>250000000.0</td>\n",
       "      <td>[christian bale, tom hardy, anne hathaway, gar...</td>\n",
       "    </tr>\n",
       "    <tr>\n",
       "      <th>4</th>\n",
       "      <td>john carter</td>\n",
       "      <td>andrew stanton</td>\n",
       "      <td>[daryl sabara, samantha morton, polly walker]</td>\n",
       "      <td>2012</td>\n",
       "      <td>6.6</td>\n",
       "      <td>73058679.0</td>\n",
       "      <td>263700000.0</td>\n",
       "      <td>[taylor kitsch, lynn collins, willem dafoe, sa...</td>\n",
       "    </tr>\n",
       "  </tbody>\n",
       "</table>\n",
       "</div>"
      ],
      "text/plain": [
       "                                      title           director  \\\n",
       "0                                    avatar      james cameron   \n",
       "1  pirates of the caribbean: at world's end     gore verbinski   \n",
       "2                                   spectre         sam mendes   \n",
       "3                     the dark knight rises  christopher nolan   \n",
       "4                               john carter     andrew stanton   \n",
       "\n",
       "                                            actors_x  year  imdb_rating  \\\n",
       "0         [cch pounder, joel david moore, wes studi]  2009          7.9   \n",
       "1       [johnny depp, orlando bloom, jack davenport]  2007          7.1   \n",
       "2  [christoph waltz, rory kinnear, stephanie sigman]  2015          6.8   \n",
       "3  [tom hardy, christian bale, joseph gordon-levitt]  2012          8.5   \n",
       "4      [daryl sabara, samantha morton, polly walker]  2012          6.6   \n",
       "\n",
       "       revenue       budget                                           actors_y  \n",
       "0  760505847.0  237000000.0  [sam worthington, zoe saldana, sigourney weave...  \n",
       "1  309404152.0  300000000.0  [johnny depp, orlando bloom, keira knightley, ...  \n",
       "2  200074175.0  245000000.0  [daniel craig, christoph waltz, léa seydoux, r...  \n",
       "3  448130642.0  250000000.0  [christian bale, tom hardy, anne hathaway, gar...  \n",
       "4   73058679.0  263700000.0  [taylor kitsch, lynn collins, willem dafoe, sa...  "
      ]
     },
     "execution_count": 11,
     "metadata": {},
     "output_type": "execute_result"
    }
   ],
   "source": [
    "# Merge the two dataframes to keep the common entries\n",
    "df_merge = df2_relevant.merge(df1_relevant, on = \"title\")\n",
    "df_merge.head()"
   ]
  },
  {
   "cell_type": "code",
   "execution_count": 12,
   "metadata": {},
   "outputs": [],
   "source": [
    "# Concatenate the actors list from the primary dataset (run this cell only once)\n",
    "df_merge['actors_x'] = df_merge['actors_x'] + df_merge['actors_y']\n",
    "df_merge = df_merge.drop(columns = ['actors_y'])"
   ]
  },
  {
   "cell_type": "code",
   "execution_count": 13,
   "metadata": {},
   "outputs": [
    {
     "data": {
      "text/html": [
       "<div>\n",
       "<style scoped>\n",
       "    .dataframe tbody tr th:only-of-type {\n",
       "        vertical-align: middle;\n",
       "    }\n",
       "\n",
       "    .dataframe tbody tr th {\n",
       "        vertical-align: top;\n",
       "    }\n",
       "\n",
       "    .dataframe thead th {\n",
       "        text-align: right;\n",
       "    }\n",
       "</style>\n",
       "<table border=\"1\" class=\"dataframe\">\n",
       "  <thead>\n",
       "    <tr style=\"text-align: right;\">\n",
       "      <th></th>\n",
       "      <th>title</th>\n",
       "      <th>director</th>\n",
       "      <th>actors</th>\n",
       "      <th>year</th>\n",
       "      <th>imdb_rating</th>\n",
       "      <th>revenue</th>\n",
       "      <th>budget</th>\n",
       "    </tr>\n",
       "  </thead>\n",
       "  <tbody>\n",
       "    <tr>\n",
       "      <th>0</th>\n",
       "      <td>avatar</td>\n",
       "      <td>james cameron</td>\n",
       "      <td>[cch pounder, sam worthington, joel david moor...</td>\n",
       "      <td>2009</td>\n",
       "      <td>7.9</td>\n",
       "      <td>760505847.0</td>\n",
       "      <td>237000000.0</td>\n",
       "    </tr>\n",
       "    <tr>\n",
       "      <th>1</th>\n",
       "      <td>pirates of the caribbean: at world's end</td>\n",
       "      <td>gore verbinski</td>\n",
       "      <td>[johnny depp, keira knightley, geoffrey rush, ...</td>\n",
       "      <td>2007</td>\n",
       "      <td>7.1</td>\n",
       "      <td>309404152.0</td>\n",
       "      <td>300000000.0</td>\n",
       "    </tr>\n",
       "    <tr>\n",
       "      <th>2</th>\n",
       "      <td>spectre</td>\n",
       "      <td>sam mendes</td>\n",
       "      <td>[daniel craig, léa seydoux, stephanie sigman, ...</td>\n",
       "      <td>2015</td>\n",
       "      <td>6.8</td>\n",
       "      <td>200074175.0</td>\n",
       "      <td>245000000.0</td>\n",
       "    </tr>\n",
       "    <tr>\n",
       "      <th>3</th>\n",
       "      <td>the dark knight rises</td>\n",
       "      <td>christopher nolan</td>\n",
       "      <td>[tom hardy, anne hathaway, gary oldman, christ...</td>\n",
       "      <td>2012</td>\n",
       "      <td>8.5</td>\n",
       "      <td>448130642.0</td>\n",
       "      <td>250000000.0</td>\n",
       "    </tr>\n",
       "    <tr>\n",
       "      <th>4</th>\n",
       "      <td>john carter</td>\n",
       "      <td>andrew stanton</td>\n",
       "      <td>[samantha morton, polly walker, lynn collins, ...</td>\n",
       "      <td>2012</td>\n",
       "      <td>6.6</td>\n",
       "      <td>73058679.0</td>\n",
       "      <td>263700000.0</td>\n",
       "    </tr>\n",
       "  </tbody>\n",
       "</table>\n",
       "</div>"
      ],
      "text/plain": [
       "                                      title           director  \\\n",
       "0                                    avatar      james cameron   \n",
       "1  pirates of the caribbean: at world's end     gore verbinski   \n",
       "2                                   spectre         sam mendes   \n",
       "3                     the dark knight rises  christopher nolan   \n",
       "4                               john carter     andrew stanton   \n",
       "\n",
       "                                              actors  year  imdb_rating  \\\n",
       "0  [cch pounder, sam worthington, joel david moor...  2009          7.9   \n",
       "1  [johnny depp, keira knightley, geoffrey rush, ...  2007          7.1   \n",
       "2  [daniel craig, léa seydoux, stephanie sigman, ...  2015          6.8   \n",
       "3  [tom hardy, anne hathaway, gary oldman, christ...  2012          8.5   \n",
       "4  [samantha morton, polly walker, lynn collins, ...  2012          6.6   \n",
       "\n",
       "       revenue       budget  \n",
       "0  760505847.0  237000000.0  \n",
       "1  309404152.0  300000000.0  \n",
       "2  200074175.0  245000000.0  \n",
       "3  448130642.0  250000000.0  \n",
       "4   73058679.0  263700000.0  "
      ]
     },
     "execution_count": 13,
     "metadata": {},
     "output_type": "execute_result"
    }
   ],
   "source": [
    "# Standardize column names\n",
    "df_merge.columns = ['title', 'director', 'actors', 'year', 'imdb_rating', 'revenue', 'budget']\n",
    "# Keep only the distinct actor names\n",
    "df_merge['actors'] = df_merge['actors'].apply(lambda x: list(set(x)))\n",
    "df_merge.head()"
   ]
  },
  {
   "cell_type": "code",
   "execution_count": 14,
   "metadata": {},
   "outputs": [
    {
     "data": {
      "text/html": [
       "<div>\n",
       "<style scoped>\n",
       "    .dataframe tbody tr th:only-of-type {\n",
       "        vertical-align: middle;\n",
       "    }\n",
       "\n",
       "    .dataframe tbody tr th {\n",
       "        vertical-align: top;\n",
       "    }\n",
       "\n",
       "    .dataframe thead th {\n",
       "        text-align: right;\n",
       "    }\n",
       "</style>\n",
       "<table border=\"1\" class=\"dataframe\">\n",
       "  <thead>\n",
       "    <tr style=\"text-align: right;\">\n",
       "      <th></th>\n",
       "      <th>title</th>\n",
       "      <th>director</th>\n",
       "      <th>actors</th>\n",
       "      <th>year</th>\n",
       "      <th>imdb_rating</th>\n",
       "      <th>revenue</th>\n",
       "      <th>budget</th>\n",
       "    </tr>\n",
       "  </thead>\n",
       "  <tbody>\n",
       "    <tr>\n",
       "      <th>0</th>\n",
       "      <td>avatar</td>\n",
       "      <td>james cameron</td>\n",
       "      <td>[cch pounder, sam worthington, joel david moor...</td>\n",
       "      <td>2009</td>\n",
       "      <td>7.9</td>\n",
       "      <td>760505847.0</td>\n",
       "      <td>237000000.0</td>\n",
       "    </tr>\n",
       "    <tr>\n",
       "      <th>1</th>\n",
       "      <td>pirates of the caribbean: at world's end</td>\n",
       "      <td>gore verbinski</td>\n",
       "      <td>[johnny depp, keira knightley, geoffrey rush, ...</td>\n",
       "      <td>2007</td>\n",
       "      <td>7.1</td>\n",
       "      <td>309404152.0</td>\n",
       "      <td>300000000.0</td>\n",
       "    </tr>\n",
       "    <tr>\n",
       "      <th>2</th>\n",
       "      <td>spectre</td>\n",
       "      <td>sam mendes</td>\n",
       "      <td>[daniel craig, léa seydoux, stephanie sigman, ...</td>\n",
       "      <td>2015</td>\n",
       "      <td>6.8</td>\n",
       "      <td>200074175.0</td>\n",
       "      <td>245000000.0</td>\n",
       "    </tr>\n",
       "    <tr>\n",
       "      <th>3</th>\n",
       "      <td>the dark knight rises</td>\n",
       "      <td>christopher nolan</td>\n",
       "      <td>[tom hardy, anne hathaway, gary oldman, christ...</td>\n",
       "      <td>2012</td>\n",
       "      <td>8.5</td>\n",
       "      <td>448130642.0</td>\n",
       "      <td>250000000.0</td>\n",
       "    </tr>\n",
       "    <tr>\n",
       "      <th>4</th>\n",
       "      <td>john carter</td>\n",
       "      <td>andrew stanton</td>\n",
       "      <td>[samantha morton, polly walker, lynn collins, ...</td>\n",
       "      <td>2012</td>\n",
       "      <td>6.6</td>\n",
       "      <td>73058679.0</td>\n",
       "      <td>263700000.0</td>\n",
       "    </tr>\n",
       "  </tbody>\n",
       "</table>\n",
       "</div>"
      ],
      "text/plain": [
       "                                      title           director  \\\n",
       "0                                    avatar      james cameron   \n",
       "1  pirates of the caribbean: at world's end     gore verbinski   \n",
       "2                                   spectre         sam mendes   \n",
       "3                     the dark knight rises  christopher nolan   \n",
       "4                               john carter     andrew stanton   \n",
       "\n",
       "                                              actors  year  imdb_rating  \\\n",
       "0  [cch pounder, sam worthington, joel david moor...  2009          7.9   \n",
       "1  [johnny depp, keira knightley, geoffrey rush, ...  2007          7.1   \n",
       "2  [daniel craig, léa seydoux, stephanie sigman, ...  2015          6.8   \n",
       "3  [tom hardy, anne hathaway, gary oldman, christ...  2012          8.5   \n",
       "4  [samantha morton, polly walker, lynn collins, ...  2012          6.6   \n",
       "\n",
       "       revenue       budget  \n",
       "0  760505847.0  237000000.0  \n",
       "1  309404152.0  300000000.0  \n",
       "2  200074175.0  245000000.0  \n",
       "3  448130642.0  250000000.0  \n",
       "4   73058679.0  263700000.0  "
      ]
     },
     "execution_count": 14,
     "metadata": {},
     "output_type": "execute_result"
    }
   ],
   "source": [
    "# Get the remaining secondary dataset entries\n",
    "df2_exclusive = df2_relevant[~df2_relevant['title'].isin(df_merge['title'])]\n",
    "# Finally, combine the two dataframes\n",
    "df_comb = df_merge.append(df2_exclusive)\n",
    "df_comb.head()"
   ]
  },
  {
   "cell_type": "code",
   "execution_count": 15,
   "metadata": {},
   "outputs": [
    {
     "name": "stdout",
     "output_type": "stream",
     "text": [
      "common_1n2: (651, 7)\n",
      "exclusive2: (3242, 7)\n",
      "combine1n2: (3893, 7)\n"
     ]
    }
   ],
   "source": [
    "print('common_1n2:', df_merge.shape)\n",
    "print('exclusive2:', df2_exclusive.shape)\n",
    "print('combine1n2:', df_comb.shape)"
   ]
  },
  {
   "cell_type": "code",
   "execution_count": 16,
   "metadata": {},
   "outputs": [
    {
     "data": {
      "text/plain": [
       "6    275\n",
       "5    220\n",
       "7    115\n",
       "4     41\n",
       "Name: actors, dtype: int64"
      ]
     },
     "execution_count": 16,
     "metadata": {},
     "output_type": "execute_result"
    }
   ],
   "source": [
    "actor_counts = df_merge['actors'].apply(len)\n",
    "actor_counts.value_counts()"
   ]
  },
  {
   "cell_type": "code",
   "execution_count": 17,
   "metadata": {},
   "outputs": [],
   "source": [
    "# df_comb.to_csv(r'tmp1.csv', index = False)"
   ]
  },
  {
   "cell_type": "markdown",
   "metadata": {},
   "source": [
    "## Create director-actor pairs"
   ]
  },
  {
   "cell_type": "code",
   "execution_count": 18,
   "metadata": {},
   "outputs": [
    {
     "data": {
      "text/html": [
       "<div>\n",
       "<style scoped>\n",
       "    .dataframe tbody tr th:only-of-type {\n",
       "        vertical-align: middle;\n",
       "    }\n",
       "\n",
       "    .dataframe tbody tr th {\n",
       "        vertical-align: top;\n",
       "    }\n",
       "\n",
       "    .dataframe thead th {\n",
       "        text-align: right;\n",
       "    }\n",
       "</style>\n",
       "<table border=\"1\" class=\"dataframe\">\n",
       "  <thead>\n",
       "    <tr style=\"text-align: right;\">\n",
       "      <th></th>\n",
       "      <th>title</th>\n",
       "      <th>director</th>\n",
       "      <th>actors</th>\n",
       "      <th>year</th>\n",
       "      <th>imdb_rating</th>\n",
       "      <th>revenue</th>\n",
       "      <th>budget</th>\n",
       "    </tr>\n",
       "  </thead>\n",
       "  <tbody>\n",
       "    <tr>\n",
       "      <th>0</th>\n",
       "      <td>avatar</td>\n",
       "      <td>james cameron</td>\n",
       "      <td>cch pounder</td>\n",
       "      <td>2009</td>\n",
       "      <td>7.9</td>\n",
       "      <td>760505847.0</td>\n",
       "      <td>237000000.0</td>\n",
       "    </tr>\n",
       "    <tr>\n",
       "      <th>0</th>\n",
       "      <td>avatar</td>\n",
       "      <td>james cameron</td>\n",
       "      <td>sam worthington</td>\n",
       "      <td>2009</td>\n",
       "      <td>7.9</td>\n",
       "      <td>760505847.0</td>\n",
       "      <td>237000000.0</td>\n",
       "    </tr>\n",
       "    <tr>\n",
       "      <th>0</th>\n",
       "      <td>avatar</td>\n",
       "      <td>james cameron</td>\n",
       "      <td>joel david moore</td>\n",
       "      <td>2009</td>\n",
       "      <td>7.9</td>\n",
       "      <td>760505847.0</td>\n",
       "      <td>237000000.0</td>\n",
       "    </tr>\n",
       "    <tr>\n",
       "      <th>0</th>\n",
       "      <td>avatar</td>\n",
       "      <td>james cameron</td>\n",
       "      <td>zoe saldana</td>\n",
       "      <td>2009</td>\n",
       "      <td>7.9</td>\n",
       "      <td>760505847.0</td>\n",
       "      <td>237000000.0</td>\n",
       "    </tr>\n",
       "    <tr>\n",
       "      <th>0</th>\n",
       "      <td>avatar</td>\n",
       "      <td>james cameron</td>\n",
       "      <td>sigourney weaver</td>\n",
       "      <td>2009</td>\n",
       "      <td>7.9</td>\n",
       "      <td>760505847.0</td>\n",
       "      <td>237000000.0</td>\n",
       "    </tr>\n",
       "  </tbody>\n",
       "</table>\n",
       "</div>"
      ],
      "text/plain": [
       "    title       director            actors  year  imdb_rating      revenue  \\\n",
       "0  avatar  james cameron       cch pounder  2009          7.9  760505847.0   \n",
       "0  avatar  james cameron   sam worthington  2009          7.9  760505847.0   \n",
       "0  avatar  james cameron  joel david moore  2009          7.9  760505847.0   \n",
       "0  avatar  james cameron       zoe saldana  2009          7.9  760505847.0   \n",
       "0  avatar  james cameron  sigourney weaver  2009          7.9  760505847.0   \n",
       "\n",
       "        budget  \n",
       "0  237000000.0  \n",
       "0  237000000.0  \n",
       "0  237000000.0  \n",
       "0  237000000.0  \n",
       "0  237000000.0  "
      ]
     },
     "execution_count": 18,
     "metadata": {},
     "output_type": "execute_result"
    }
   ],
   "source": [
    "# Seperate the actors list into multiple rows\n",
    "df_comb = df_comb.explode('actors')\n",
    "# Remove duplicate entries\n",
    "df_comb = df_comb.drop_duplicates()\n",
    "df_comb.head()"
   ]
  },
  {
   "cell_type": "code",
   "execution_count": 19,
   "metadata": {},
   "outputs": [
    {
     "data": {
      "text/html": [
       "<div>\n",
       "<style scoped>\n",
       "    .dataframe tbody tr th:only-of-type {\n",
       "        vertical-align: middle;\n",
       "    }\n",
       "\n",
       "    .dataframe tbody tr th {\n",
       "        vertical-align: top;\n",
       "    }\n",
       "\n",
       "    .dataframe thead th {\n",
       "        text-align: right;\n",
       "    }\n",
       "</style>\n",
       "<table border=\"1\" class=\"dataframe\">\n",
       "  <thead>\n",
       "    <tr style=\"text-align: right;\">\n",
       "      <th></th>\n",
       "      <th>director</th>\n",
       "      <th>actors</th>\n",
       "      <th>title</th>\n",
       "      <th>year</th>\n",
       "      <th>imdb_rating</th>\n",
       "      <th>revenue</th>\n",
       "      <th>budget</th>\n",
       "    </tr>\n",
       "  </thead>\n",
       "  <tbody>\n",
       "    <tr>\n",
       "      <th>0</th>\n",
       "      <td>aaron schneider</td>\n",
       "      <td>bill cobbs</td>\n",
       "      <td>[get low]</td>\n",
       "      <td>[2009]</td>\n",
       "      <td>[7.1]</td>\n",
       "      <td>[9176553.0]</td>\n",
       "      <td>[7500000.0]</td>\n",
       "    </tr>\n",
       "    <tr>\n",
       "      <th>1</th>\n",
       "      <td>aaron schneider</td>\n",
       "      <td>bill murray</td>\n",
       "      <td>[get low]</td>\n",
       "      <td>[2009]</td>\n",
       "      <td>[7.1]</td>\n",
       "      <td>[9176553.0]</td>\n",
       "      <td>[7500000.0]</td>\n",
       "    </tr>\n",
       "    <tr>\n",
       "      <th>2</th>\n",
       "      <td>aaron schneider</td>\n",
       "      <td>robert duvall</td>\n",
       "      <td>[get low]</td>\n",
       "      <td>[2009]</td>\n",
       "      <td>[7.1]</td>\n",
       "      <td>[9176553.0]</td>\n",
       "      <td>[7500000.0]</td>\n",
       "    </tr>\n",
       "    <tr>\n",
       "      <th>3</th>\n",
       "      <td>aaron seltzer</td>\n",
       "      <td>alyson hannigan</td>\n",
       "      <td>[date movie]</td>\n",
       "      <td>[2006]</td>\n",
       "      <td>[2.7]</td>\n",
       "      <td>[48546578.0]</td>\n",
       "      <td>[20000000.0]</td>\n",
       "    </tr>\n",
       "    <tr>\n",
       "      <th>4</th>\n",
       "      <td>aaron seltzer</td>\n",
       "      <td>carmen electra</td>\n",
       "      <td>[date movie]</td>\n",
       "      <td>[2006]</td>\n",
       "      <td>[2.7]</td>\n",
       "      <td>[48546578.0]</td>\n",
       "      <td>[20000000.0]</td>\n",
       "    </tr>\n",
       "  </tbody>\n",
       "</table>\n",
       "</div>"
      ],
      "text/plain": [
       "          director           actors         title    year imdb_rating  \\\n",
       "0  aaron schneider       bill cobbs     [get low]  [2009]       [7.1]   \n",
       "1  aaron schneider      bill murray     [get low]  [2009]       [7.1]   \n",
       "2  aaron schneider    robert duvall     [get low]  [2009]       [7.1]   \n",
       "3    aaron seltzer  alyson hannigan  [date movie]  [2006]       [2.7]   \n",
       "4    aaron seltzer   carmen electra  [date movie]  [2006]       [2.7]   \n",
       "\n",
       "        revenue        budget  \n",
       "0   [9176553.0]   [7500000.0]  \n",
       "1   [9176553.0]   [7500000.0]  \n",
       "2   [9176553.0]   [7500000.0]  \n",
       "3  [48546578.0]  [20000000.0]  \n",
       "4  [48546578.0]  [20000000.0]  "
      ]
     },
     "execution_count": 19,
     "metadata": {},
     "output_type": "execute_result"
    }
   ],
   "source": [
    "# Group by director-actor pair, keep the remaining columns as lists\n",
    "df_group = df_comb.groupby(['director', 'actors'], as_index=False)[['title', 'year', 'imdb_rating', 'revenue', 'budget']].agg(lambda x: list(x))\n",
    "df_group.head()"
   ]
  },
  {
   "cell_type": "code",
   "execution_count": 20,
   "metadata": {},
   "outputs": [
    {
     "data": {
      "text/html": [
       "<div>\n",
       "<style scoped>\n",
       "    .dataframe tbody tr th:only-of-type {\n",
       "        vertical-align: middle;\n",
       "    }\n",
       "\n",
       "    .dataframe tbody tr th {\n",
       "        vertical-align: top;\n",
       "    }\n",
       "\n",
       "    .dataframe thead th {\n",
       "        text-align: right;\n",
       "    }\n",
       "</style>\n",
       "<table border=\"1\" class=\"dataframe\">\n",
       "  <thead>\n",
       "    <tr style=\"text-align: right;\">\n",
       "      <th></th>\n",
       "      <th>director</th>\n",
       "      <th>actors</th>\n",
       "      <th>title</th>\n",
       "      <th>year</th>\n",
       "      <th>imdb_rating</th>\n",
       "      <th>revenue</th>\n",
       "      <th>budget</th>\n",
       "      <th>movies_count</th>\n",
       "    </tr>\n",
       "  </thead>\n",
       "  <tbody>\n",
       "    <tr>\n",
       "      <th>29</th>\n",
       "      <td>adam mckay</td>\n",
       "      <td>john c. reilly</td>\n",
       "      <td>[talladega nights: the ballad of ricky bobby, ...</td>\n",
       "      <td>[2006, 2008]</td>\n",
       "      <td>[6.6, 6.9]</td>\n",
       "      <td>[148213377.0, 100468793.0]</td>\n",
       "      <td>[73000000.0, 65000000.0]</td>\n",
       "      <td>2</td>\n",
       "    </tr>\n",
       "    <tr>\n",
       "      <th>36</th>\n",
       "      <td>adam mckay</td>\n",
       "      <td>steve carell</td>\n",
       "      <td>[the big short, anchorman 2: the legend contin...</td>\n",
       "      <td>[2015, 2013, 2004]</td>\n",
       "      <td>[7.8, 6.3, 7.2]</td>\n",
       "      <td>[70235322.0, 2175312.0, 84136909.0]</td>\n",
       "      <td>[28000000.0, 50000000.0, 26000000.0]</td>\n",
       "      <td>3</td>\n",
       "    </tr>\n",
       "    <tr>\n",
       "      <th>37</th>\n",
       "      <td>adam mckay</td>\n",
       "      <td>will ferrell</td>\n",
       "      <td>[the other guys, talladega nights: the ballad ...</td>\n",
       "      <td>[2010, 2006, 2008, 2013, 2004]</td>\n",
       "      <td>[6.7, 6.6, 6.9, 6.3, 7.2]</td>\n",
       "      <td>[119219978.0, 148213377.0, 100468793.0, 217531...</td>\n",
       "      <td>[100000000.0, 73000000.0, 65000000.0, 50000000...</td>\n",
       "      <td>5</td>\n",
       "    </tr>\n",
       "    <tr>\n",
       "      <th>197</th>\n",
       "      <td>alejandro g. iñárritu</td>\n",
       "      <td>naomi watts</td>\n",
       "      <td>[birdman or (the unexpected virtue of ignoranc...</td>\n",
       "      <td>[2014, 2003]</td>\n",
       "      <td>[7.8, 7.7]</td>\n",
       "      <td>[42335698.0, 16248701.0]</td>\n",
       "      <td>[18000000.0, 20000000.0]</td>\n",
       "      <td>2</td>\n",
       "    </tr>\n",
       "    <tr>\n",
       "      <th>226</th>\n",
       "      <td>alex kendrick</td>\n",
       "      <td>alex kendrick</td>\n",
       "      <td>[courageous, facing the giants]</td>\n",
       "      <td>[2011, 2006]</td>\n",
       "      <td>[7.0, 6.7]</td>\n",
       "      <td>[34522221.0, 10174663.0]</td>\n",
       "      <td>[2000000.0, 100000.0]</td>\n",
       "      <td>2</td>\n",
       "    </tr>\n",
       "  </tbody>\n",
       "</table>\n",
       "</div>"
      ],
      "text/plain": [
       "                  director          actors  \\\n",
       "29              adam mckay  john c. reilly   \n",
       "36              adam mckay    steve carell   \n",
       "37              adam mckay    will ferrell   \n",
       "197  alejandro g. iñárritu     naomi watts   \n",
       "226          alex kendrick   alex kendrick   \n",
       "\n",
       "                                                 title  \\\n",
       "29   [talladega nights: the ballad of ricky bobby, ...   \n",
       "36   [the big short, anchorman 2: the legend contin...   \n",
       "37   [the other guys, talladega nights: the ballad ...   \n",
       "197  [birdman or (the unexpected virtue of ignoranc...   \n",
       "226                    [courageous, facing the giants]   \n",
       "\n",
       "                               year                imdb_rating  \\\n",
       "29                     [2006, 2008]                 [6.6, 6.9]   \n",
       "36               [2015, 2013, 2004]            [7.8, 6.3, 7.2]   \n",
       "37   [2010, 2006, 2008, 2013, 2004]  [6.7, 6.6, 6.9, 6.3, 7.2]   \n",
       "197                    [2014, 2003]                 [7.8, 7.7]   \n",
       "226                    [2011, 2006]                 [7.0, 6.7]   \n",
       "\n",
       "                                               revenue  \\\n",
       "29                          [148213377.0, 100468793.0]   \n",
       "36                 [70235322.0, 2175312.0, 84136909.0]   \n",
       "37   [119219978.0, 148213377.0, 100468793.0, 217531...   \n",
       "197                           [42335698.0, 16248701.0]   \n",
       "226                           [34522221.0, 10174663.0]   \n",
       "\n",
       "                                                budget  movies_count  \n",
       "29                            [73000000.0, 65000000.0]             2  \n",
       "36                [28000000.0, 50000000.0, 26000000.0]             3  \n",
       "37   [100000000.0, 73000000.0, 65000000.0, 50000000...             5  \n",
       "197                           [18000000.0, 20000000.0]             2  \n",
       "226                              [2000000.0, 100000.0]             2  "
      ]
     },
     "execution_count": 20,
     "metadata": {},
     "output_type": "execute_result"
    }
   ],
   "source": [
    "# Get the movies count for each pair\n",
    "df_group['movies_count'] = df_group['title'].apply(len)\n",
    "# Keep only the pairs with at least 2 movies\n",
    "df_filter = df_group[df_group.movies_count > 1]\n",
    "df_filter.head()"
   ]
  },
  {
   "cell_type": "code",
   "execution_count": 21,
   "metadata": {},
   "outputs": [
    {
     "name": "stdout",
     "output_type": "stream",
     "text": [
      "orig_pairs: (12316, 8)\n",
      "filt_pairs: (510, 8)\n"
     ]
    }
   ],
   "source": [
    "print('orig_pairs:', df_group.shape)\n",
    "print('filt_pairs:', df_filter.shape)"
   ]
  },
  {
   "cell_type": "markdown",
   "metadata": {},
   "source": [
    "## Handle troublesome cases"
   ]
  },
  {
   "cell_type": "markdown",
   "metadata": {},
   "source": [
    "#### People paired with themselves"
   ]
  },
  {
   "cell_type": "code",
   "execution_count": 22,
   "metadata": {},
   "outputs": [
    {
     "name": "stdout",
     "output_type": "stream",
     "text": [
      "Number of such people: 19\n"
     ]
    }
   ],
   "source": [
    "# Find self-paired people (we want different people in a pair)\n",
    "df_filter['same_pairs'] = np.where((df_filter.director == df_filter.actors), True, False)\n",
    "print('Number of such people:', df_filter[df_filter['same_pairs'] == True].shape[0])\n",
    "\n",
    "# Remove such rows with self-paired people\n",
    "df_filter = df_filter[df_filter['same_pairs'] == False]"
   ]
  },
  {
   "cell_type": "markdown",
   "metadata": {},
   "source": [
    "#### Directors who have acted too"
   ]
  },
  {
   "cell_type": "code",
   "execution_count": 23,
   "metadata": {},
   "outputs": [],
   "source": [
    "# Create a list of directors and actors\n",
    "directors = df_filter['director'].drop_duplicates()\n",
    "actors = df_filter['actors'].drop_duplicates()"
   ]
  },
  {
   "cell_type": "code",
   "execution_count": 24,
   "metadata": {},
   "outputs": [
    {
     "name": "stdout",
     "output_type": "stream",
     "text": [
      "Number of such people: 4\n"
     ]
    }
   ],
   "source": [
    "# Directors who acted too / Actors who directed too (same thing)\n",
    "acting_directors = list(set(directors[directors.isin(actors)]))\n",
    "# directing_actors = list(set(actors[actors.isin(directors)]))\n",
    "print('Number of such people:', len(acting_directors))\n",
    "\n",
    "# Remove such rows where directors acted (if not removed, same person belongs to both groups)\n",
    "df_filter = df_filter[~df_filter['actors'].isin(acting_directors)]"
   ]
  },
  {
   "cell_type": "code",
   "execution_count": 25,
   "metadata": {},
   "outputs": [],
   "source": [
    "# df_filter.to_csv(r'tmp2.csv', index = False)"
   ]
  },
  {
   "cell_type": "markdown",
   "metadata": {},
   "source": [
    "## Final result stored in JSON file"
   ]
  },
  {
   "cell_type": "code",
   "execution_count": 26,
   "metadata": {},
   "outputs": [
    {
     "data": {
      "text/html": [
       "<div>\n",
       "<style scoped>\n",
       "    .dataframe tbody tr th:only-of-type {\n",
       "        vertical-align: middle;\n",
       "    }\n",
       "\n",
       "    .dataframe tbody tr th {\n",
       "        vertical-align: top;\n",
       "    }\n",
       "\n",
       "    .dataframe thead th {\n",
       "        text-align: right;\n",
       "    }\n",
       "</style>\n",
       "<table border=\"1\" class=\"dataframe\">\n",
       "  <thead>\n",
       "    <tr style=\"text-align: right;\">\n",
       "      <th></th>\n",
       "      <th>director</th>\n",
       "      <th>actors</th>\n",
       "      <th>title</th>\n",
       "      <th>year</th>\n",
       "      <th>imdb_rating</th>\n",
       "      <th>revenue</th>\n",
       "      <th>budget</th>\n",
       "      <th>movies_count</th>\n",
       "    </tr>\n",
       "  </thead>\n",
       "  <tbody>\n",
       "    <tr>\n",
       "      <th>29</th>\n",
       "      <td>adam mckay</td>\n",
       "      <td>john c. reilly</td>\n",
       "      <td>[talladega nights: the ballad of ricky bobby, ...</td>\n",
       "      <td>[2006, 2008]</td>\n",
       "      <td>[6.6, 6.9]</td>\n",
       "      <td>[148213377.0, 100468793.0]</td>\n",
       "      <td>[73000000.0, 65000000.0]</td>\n",
       "      <td>2</td>\n",
       "    </tr>\n",
       "    <tr>\n",
       "      <th>36</th>\n",
       "      <td>adam mckay</td>\n",
       "      <td>steve carell</td>\n",
       "      <td>[the big short, anchorman 2: the legend contin...</td>\n",
       "      <td>[2015, 2013, 2004]</td>\n",
       "      <td>[7.8, 6.3, 7.2]</td>\n",
       "      <td>[70235322.0, 2175312.0, 84136909.0]</td>\n",
       "      <td>[28000000.0, 50000000.0, 26000000.0]</td>\n",
       "      <td>3</td>\n",
       "    </tr>\n",
       "    <tr>\n",
       "      <th>37</th>\n",
       "      <td>adam mckay</td>\n",
       "      <td>will ferrell</td>\n",
       "      <td>[the other guys, talladega nights: the ballad ...</td>\n",
       "      <td>[2010, 2006, 2008, 2013, 2004]</td>\n",
       "      <td>[6.7, 6.6, 6.9, 6.3, 7.2]</td>\n",
       "      <td>[119219978.0, 148213377.0, 100468793.0, 217531...</td>\n",
       "      <td>[100000000.0, 73000000.0, 65000000.0, 50000000...</td>\n",
       "      <td>5</td>\n",
       "    </tr>\n",
       "    <tr>\n",
       "      <th>197</th>\n",
       "      <td>alejandro g. iñárritu</td>\n",
       "      <td>naomi watts</td>\n",
       "      <td>[birdman or (the unexpected virtue of ignoranc...</td>\n",
       "      <td>[2014, 2003]</td>\n",
       "      <td>[7.8, 7.7]</td>\n",
       "      <td>[42335698.0, 16248701.0]</td>\n",
       "      <td>[18000000.0, 20000000.0]</td>\n",
       "      <td>2</td>\n",
       "    </tr>\n",
       "    <tr>\n",
       "      <th>228</th>\n",
       "      <td>alex kendrick</td>\n",
       "      <td>erin bethea</td>\n",
       "      <td>[fireproof, facing the giants]</td>\n",
       "      <td>[2008, 2006]</td>\n",
       "      <td>[6.5, 6.7]</td>\n",
       "      <td>[33451479.0, 10174663.0]</td>\n",
       "      <td>[500000.0, 100000.0]</td>\n",
       "      <td>2</td>\n",
       "    </tr>\n",
       "  </tbody>\n",
       "</table>\n",
       "</div>"
      ],
      "text/plain": [
       "                  director          actors  \\\n",
       "29              adam mckay  john c. reilly   \n",
       "36              adam mckay    steve carell   \n",
       "37              adam mckay    will ferrell   \n",
       "197  alejandro g. iñárritu     naomi watts   \n",
       "228          alex kendrick     erin bethea   \n",
       "\n",
       "                                                 title  \\\n",
       "29   [talladega nights: the ballad of ricky bobby, ...   \n",
       "36   [the big short, anchorman 2: the legend contin...   \n",
       "37   [the other guys, talladega nights: the ballad ...   \n",
       "197  [birdman or (the unexpected virtue of ignoranc...   \n",
       "228                     [fireproof, facing the giants]   \n",
       "\n",
       "                               year                imdb_rating  \\\n",
       "29                     [2006, 2008]                 [6.6, 6.9]   \n",
       "36               [2015, 2013, 2004]            [7.8, 6.3, 7.2]   \n",
       "37   [2010, 2006, 2008, 2013, 2004]  [6.7, 6.6, 6.9, 6.3, 7.2]   \n",
       "197                    [2014, 2003]                 [7.8, 7.7]   \n",
       "228                    [2008, 2006]                 [6.5, 6.7]   \n",
       "\n",
       "                                               revenue  \\\n",
       "29                          [148213377.0, 100468793.0]   \n",
       "36                 [70235322.0, 2175312.0, 84136909.0]   \n",
       "37   [119219978.0, 148213377.0, 100468793.0, 217531...   \n",
       "197                           [42335698.0, 16248701.0]   \n",
       "228                           [33451479.0, 10174663.0]   \n",
       "\n",
       "                                                budget  movies_count  \n",
       "29                            [73000000.0, 65000000.0]             2  \n",
       "36                [28000000.0, 50000000.0, 26000000.0]             3  \n",
       "37   [100000000.0, 73000000.0, 65000000.0, 50000000...             5  \n",
       "197                           [18000000.0, 20000000.0]             2  \n",
       "228                               [500000.0, 100000.0]             2  "
      ]
     },
     "execution_count": 26,
     "metadata": {},
     "output_type": "execute_result"
    }
   ],
   "source": [
    "# Create a final dataframe with the relevant columns\n",
    "df_final = df_filter.drop(columns = ['same_pairs'])\n",
    "df_final.head()"
   ]
  },
  {
   "cell_type": "code",
   "execution_count": 27,
   "metadata": {},
   "outputs": [
    {
     "name": "stdout",
     "output_type": "stream",
     "text": [
      "final_count: (487, 8)\n"
     ]
    }
   ],
   "source": [
    "print('final_count:', df_final.shape)"
   ]
  },
  {
   "cell_type": "code",
   "execution_count": 28,
   "metadata": {},
   "outputs": [],
   "source": [
    "# df_final.to_csv(r'tmp3.csv', index = False)"
   ]
  },
  {
   "cell_type": "code",
   "execution_count": 29,
   "metadata": {},
   "outputs": [],
   "source": [
    "### Store the result into a json file\n",
    "directors_list = df_final['director'].drop_duplicates()\n",
    "actors_list = df_final['actors'].drop_duplicates()\n",
    "\n",
    "# Iterate rows:\n",
    "nodes = list()\n",
    "names = list()\n",
    "for director in directors_list:\n",
    "    nodes.append({'id': director, 'group' : 1})\n",
    "    names.append(director)\n",
    "for actor in actors_list:\n",
    "    nodes.append({'id': actor, 'group' : 2})\n",
    "    names.append(actor)\n",
    "\n",
    "links = list()\n",
    "for index, row in df_final.iterrows():\n",
    "    links.append({\"source\": row['director'], \"target\": row['actors'], \"title\": row['title'], \"year\": row['year'],\n",
    "                  \"imdb_rating\": row['imdb_rating'], \"revenue\": row['revenue'], \"budget\": row['budget'], \n",
    "                  \"counts\": row['movies_count']})\n",
    "\n",
    "json_file = {\n",
    "    'nodes': nodes,\n",
    "    'links': links\n",
    "}\n",
    "\n",
    "with open('new-result.json', 'w') as fp:\n",
    "    json.dump(json_file, fp)"
   ]
  }
 ],
 "metadata": {
  "kernelspec": {
   "display_name": "Python 3",
   "language": "python",
   "name": "python3"
  },
  "language_info": {
   "codemirror_mode": {
    "name": "ipython",
    "version": 3
   },
   "file_extension": ".py",
   "mimetype": "text/x-python",
   "name": "python",
   "nbconvert_exporter": "python",
   "pygments_lexer": "ipython3",
   "version": "3.8.3"
  }
 },
 "nbformat": 4,
 "nbformat_minor": 4
}
