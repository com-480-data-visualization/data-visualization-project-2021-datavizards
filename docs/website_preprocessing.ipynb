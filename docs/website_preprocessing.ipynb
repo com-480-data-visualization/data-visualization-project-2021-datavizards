{
 "cells": [
  {
   "cell_type": "code",
   "execution_count": 1,
   "metadata": {},
   "outputs": [],
   "source": [
    "# Library imports\n",
    "import numpy as np\n",
    "import pandas as pd\n",
    "import json"
   ]
  },
  {
   "cell_type": "code",
   "execution_count": 2,
   "metadata": {},
   "outputs": [],
   "source": [
    "# Read the dataset\n",
    "df = pd.read_csv('../data/primary_dataset.csv')\n",
    "\n",
    "# Standardize column names\n",
    "df.columns = ['rank', 'title', 'genres', 'description', 'director', 'actors', 'year', 'runtime', 'rating', 'votes', 'revenue', 'metascore']\n",
    "\n",
    "# Split actors:\n",
    "df[\"actors\"] = df[\"actors\"].str.split(\",\")\n",
    "df = df.explode(\"actors\").reset_index(drop=True)\n",
    "# Remove spaces\n",
    "df[\"actors\"] = df[\"actors\"].str.strip()\n",
    "\n",
    "# Count pairs:\n",
    "result = df.groupby(['director', 'actors']).size().reset_index().rename(columns={0:'count'})\n",
    "result = result[result['count'] > 1].reset_index()\n",
    "\n",
    "directors = result['director'].drop_duplicates()\n",
    "actors = result['actors'].drop_duplicates()\n",
    "\n",
    "# Iterate rows:\n",
    "nodes = list()\n",
    "names = list()\n",
    "for director in directors:\n",
    "    nodes.append({'id': director, 'group' : 1})\n",
    "    names.append(director)\n",
    "for actor in actors:\n",
    "    nodes.append({'id': actor, 'group' : 2})\n",
    "    names.append(actor)\n",
    "\n",
    "links = list()\n",
    "for index, row in result.iterrows():\n",
    "    links.append({\"source\": row['director'], \"target\": row['actors'], \"value\": row['count']})\n",
    "\n",
    "json_file = {\n",
    "    'nodes': nodes,\n",
    "    'links': links\n",
    "}\n",
    "\n",
    "with open('result.json', 'w') as fp:\n",
    "    json.dump(json_file, fp)"
   ]
  },
  {
   "cell_type": "code",
   "execution_count": null,
   "metadata": {},
   "outputs": [],
   "source": []
  }
 ],
 "metadata": {
  "kernelspec": {
   "display_name": "Python 3",
   "language": "python",
   "name": "python3"
  },
  "language_info": {
   "codemirror_mode": {
    "name": "ipython",
    "version": 3
   },
   "file_extension": ".py",
   "mimetype": "text/x-python",
   "name": "python",
   "nbconvert_exporter": "python",
   "pygments_lexer": "ipython3",
   "version": "3.9.4"
  }
 },
 "nbformat": 4,
 "nbformat_minor": 4
}